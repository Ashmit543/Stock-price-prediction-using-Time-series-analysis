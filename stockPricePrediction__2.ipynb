{
 "cells": [
  {
   "cell_type": "code",
   "execution_count": 1,
   "metadata": {},
   "outputs": [],
   "source": [
    "import numpy as np\n",
    "import tensorflow as tf\n",
    "from tensorflow.keras.models import Sequential\n",
    "from tensorflow.keras.layers import Bidirectional, LSTM, Dropout, Dense, Lambda\n",
    "\n",
    "from tensorflow.keras.optimizers import Adam\n",
    "from tensorflow.keras.callbacks import LearningRateScheduler, EarlyStopping, ModelCheckpoint\n",
    "from sklearn.metrics import mean_squared_error, r2_score\n",
    "\n",
    "import pandas as pd\n",
    "from matplotlib import pyplot as plt\n",
    "from sklearn.preprocessing import StandardScaler\n",
    "import seaborn as sns\n",
    "from datetime import datetime\n",
    "\n"
   ]
  },
  {
   "cell_type": "code",
   "execution_count": 2,
   "metadata": {},
   "outputs": [
    {
     "data": {
      "text/html": [
       "<div>\n",
       "<style scoped>\n",
       "    .dataframe tbody tr th:only-of-type {\n",
       "        vertical-align: middle;\n",
       "    }\n",
       "\n",
       "    .dataframe tbody tr th {\n",
       "        vertical-align: top;\n",
       "    }\n",
       "\n",
       "    .dataframe thead th {\n",
       "        text-align: right;\n",
       "    }\n",
       "</style>\n",
       "<table border=\"1\" class=\"dataframe\">\n",
       "  <thead>\n",
       "    <tr style=\"text-align: right;\">\n",
       "      <th></th>\n",
       "      <th>Date</th>\n",
       "      <th>Open</th>\n",
       "      <th>High</th>\n",
       "      <th>Low</th>\n",
       "      <th>Close</th>\n",
       "      <th>Adj Close</th>\n",
       "      <th>Volume</th>\n",
       "    </tr>\n",
       "  </thead>\n",
       "  <tbody>\n",
       "    <tr>\n",
       "      <th>0</th>\n",
       "      <td>2017-01-03</td>\n",
       "      <td>151.776489</td>\n",
       "      <td>152.591202</td>\n",
       "      <td>150.482529</td>\n",
       "      <td>151.872345</td>\n",
       "      <td>137.021820</td>\n",
       "      <td>6708382</td>\n",
       "    </tr>\n",
       "    <tr>\n",
       "      <th>1</th>\n",
       "      <td>2017-01-04</td>\n",
       "      <td>152.159882</td>\n",
       "      <td>152.543289</td>\n",
       "      <td>151.536865</td>\n",
       "      <td>151.920258</td>\n",
       "      <td>137.065033</td>\n",
       "      <td>4474320</td>\n",
       "    </tr>\n",
       "    <tr>\n",
       "      <th>2</th>\n",
       "      <td>2017-01-05</td>\n",
       "      <td>151.297241</td>\n",
       "      <td>152.159882</td>\n",
       "      <td>150.051208</td>\n",
       "      <td>151.057632</td>\n",
       "      <td>136.286713</td>\n",
       "      <td>5395334</td>\n",
       "    </tr>\n",
       "    <tr>\n",
       "      <th>3</th>\n",
       "      <td>2017-01-06</td>\n",
       "      <td>151.345169</td>\n",
       "      <td>152.255737</td>\n",
       "      <td>150.290833</td>\n",
       "      <td>151.488953</td>\n",
       "      <td>136.675903</td>\n",
       "      <td>4615772</td>\n",
       "    </tr>\n",
       "    <tr>\n",
       "      <th>4</th>\n",
       "      <td>2017-01-09</td>\n",
       "      <td>151.632721</td>\n",
       "      <td>151.728561</td>\n",
       "      <td>150.626312</td>\n",
       "      <td>150.770081</td>\n",
       "      <td>136.027328</td>\n",
       "      <td>4436678</td>\n",
       "    </tr>\n",
       "  </tbody>\n",
       "</table>\n",
       "</div>"
      ],
      "text/plain": [
       "         Date        Open        High         Low       Close   Adj Close  \\\n",
       "0  2017-01-03  151.776489  152.591202  150.482529  151.872345  137.021820   \n",
       "1  2017-01-04  152.159882  152.543289  151.536865  151.920258  137.065033   \n",
       "2  2017-01-05  151.297241  152.159882  150.051208  151.057632  136.286713   \n",
       "3  2017-01-06  151.345169  152.255737  150.290833  151.488953  136.675903   \n",
       "4  2017-01-09  151.632721  151.728561  150.626312  150.770081  136.027328   \n",
       "\n",
       "    Volume  \n",
       "0  6708382  \n",
       "1  4474320  \n",
       "2  5395334  \n",
       "3  4615772  \n",
       "4  4436678  "
      ]
     },
     "execution_count": 2,
     "metadata": {},
     "output_type": "execute_result"
    }
   ],
   "source": [
    "df1 = pd.read_csv('GE.csv')\n",
    "df1.head()"
   ]
  },
  {
   "cell_type": "code",
   "execution_count": 3,
   "metadata": {},
   "outputs": [
    {
     "data": {
      "text/html": [
       "<div>\n",
       "<style scoped>\n",
       "    .dataframe tbody tr th:only-of-type {\n",
       "        vertical-align: middle;\n",
       "    }\n",
       "\n",
       "    .dataframe tbody tr th {\n",
       "        vertical-align: top;\n",
       "    }\n",
       "\n",
       "    .dataframe thead th {\n",
       "        text-align: right;\n",
       "    }\n",
       "</style>\n",
       "<table border=\"1\" class=\"dataframe\">\n",
       "  <thead>\n",
       "    <tr style=\"text-align: right;\">\n",
       "      <th></th>\n",
       "      <th>Date</th>\n",
       "      <th>Open</th>\n",
       "      <th>High</th>\n",
       "      <th>Low</th>\n",
       "      <th>Close</th>\n",
       "      <th>Adj Close</th>\n",
       "      <th>Volume</th>\n",
       "    </tr>\n",
       "  </thead>\n",
       "  <tbody>\n",
       "    <tr>\n",
       "      <th>1876</th>\n",
       "      <td>2024-06-18</td>\n",
       "      <td>163.399994</td>\n",
       "      <td>165.190002</td>\n",
       "      <td>162.360001</td>\n",
       "      <td>164.970001</td>\n",
       "      <td>164.970001</td>\n",
       "      <td>5105300</td>\n",
       "    </tr>\n",
       "    <tr>\n",
       "      <th>1877</th>\n",
       "      <td>2024-06-20</td>\n",
       "      <td>164.970001</td>\n",
       "      <td>166.300003</td>\n",
       "      <td>163.050003</td>\n",
       "      <td>165.000000</td>\n",
       "      <td>165.000000</td>\n",
       "      <td>4957200</td>\n",
       "    </tr>\n",
       "    <tr>\n",
       "      <th>1878</th>\n",
       "      <td>2024-06-21</td>\n",
       "      <td>164.500000</td>\n",
       "      <td>164.919998</td>\n",
       "      <td>161.300003</td>\n",
       "      <td>164.240005</td>\n",
       "      <td>164.240005</td>\n",
       "      <td>17195200</td>\n",
       "    </tr>\n",
       "  </tbody>\n",
       "</table>\n",
       "</div>"
      ],
      "text/plain": [
       "            Date        Open        High         Low       Close   Adj Close  \\\n",
       "1876  2024-06-18  163.399994  165.190002  162.360001  164.970001  164.970001   \n",
       "1877  2024-06-20  164.970001  166.300003  163.050003  165.000000  165.000000   \n",
       "1878  2024-06-21  164.500000  164.919998  161.300003  164.240005  164.240005   \n",
       "\n",
       "        Volume  \n",
       "1876   5105300  \n",
       "1877   4957200  \n",
       "1878  17195200  "
      ]
     },
     "execution_count": 3,
     "metadata": {},
     "output_type": "execute_result"
    }
   ],
   "source": [
    "df1.tail(3)"
   ]
  },
  {
   "cell_type": "code",
   "execution_count": 4,
   "metadata": {},
   "outputs": [
    {
     "name": "stdout",
     "output_type": "stream",
     "text": [
      "0   2017-01-03\n",
      "1   2017-01-04\n",
      "2   2017-01-05\n",
      "3   2017-01-06\n",
      "4   2017-01-09\n",
      "Name: Date, dtype: datetime64[ns]\n"
     ]
    }
   ],
   "source": [
    "#Separate dates for future plotting\n",
    "train_dates = pd.to_datetime(df1['Date'])\n",
    "print(train_dates.head()) #Check last few dates. \n",
    "\n",
    "df1['Years'] = pd.to_datetime(df1['Date']).dt.year\n"
   ]
  },
  {
   "cell_type": "code",
   "execution_count": 5,
   "metadata": {},
   "outputs": [
    {
     "name": "stdout",
     "output_type": "stream",
     "text": [
      "<class 'pandas.core.frame.DataFrame'>\n",
      "RangeIndex: 1879 entries, 0 to 1878\n",
      "Data columns (total 8 columns):\n",
      " #   Column     Non-Null Count  Dtype  \n",
      "---  ------     --------------  -----  \n",
      " 0   Date       1879 non-null   object \n",
      " 1   Open       1879 non-null   float64\n",
      " 2   High       1879 non-null   float64\n",
      " 3   Low        1879 non-null   float64\n",
      " 4   Close      1879 non-null   float64\n",
      " 5   Adj Close  1879 non-null   float64\n",
      " 6   Volume     1879 non-null   int64  \n",
      " 7   Years      1879 non-null   int32  \n",
      "dtypes: float64(5), int32(1), int64(1), object(1)\n",
      "memory usage: 110.2+ KB\n"
     ]
    }
   ],
   "source": [
    "df1.info()"
   ]
  },
  {
   "cell_type": "code",
   "execution_count": 6,
   "metadata": {},
   "outputs": [],
   "source": [
    "# plt.figure(figsize=(12, 8))\n",
    "# for i in ['Open', 'High', 'Low', 'Close', 'Adj Close']:\n",
    "#     plt.plot(df1['Date'],df1[i],label=i)\n",
    "\n",
    "# plt.xlabel('Date')\n",
    "# plt.ylabel('Price')\n",
    "# plt.title('Stock Prices Over Time')\n",
    "# plt.legend()\n",
    "# plt.show()"
   ]
  },
  {
   "cell_type": "code",
   "execution_count": 7,
   "metadata": {},
   "outputs": [],
   "source": [
    "# import pandas as pd\n",
    "# import matplotlib.pyplot as plt\n",
    "# import matplotlib.ticker as ticker\n",
    "# import matplotlib.dates as mdates\n",
    "\n",
    "# df1 = df1.sort_values('Date')\n",
    "\n",
    "# # Plot each column\n",
    "# plt.figure(figsize=(12, 8))\n",
    "# for column in ['Open', 'High', 'Low', 'Close', 'Adj Close']:\n",
    "#     plt.plot(df1['Date'], df1[column], label=column)\n",
    "\n",
    "# plt.xlabel('Date')\n",
    "# plt.ylabel('Price')\n",
    "# plt.title('Stock Prices Over Time')\n",
    "# plt.legend()\n",
    "\n",
    "# # Improve date formatting\n",
    "# plt.gcf().autofmt_xdate()\n",
    "\n",
    "# # Set major ticks format\n",
    "# plt.gca().xaxis.set_major_locator(mdates.YearLocator())\n",
    "# plt.gca().xaxis.set_major_formatter(mdates.DateFormatter('%Y'))\n",
    "# plt.gca().xaxis.set_minor_locator(mdates.MonthLocator(interval=3))\n",
    "\n",
    "# plt.show()\n",
    "\n",
    "\n",
    "# plt.show()\n"
   ]
  },
  {
   "cell_type": "code",
   "execution_count": 8,
   "metadata": {},
   "outputs": [
    {
     "name": "stdout",
     "output_type": "stream",
     "text": [
      "<class 'pandas.core.frame.DataFrame'>\n",
      "RangeIndex: 1879 entries, 0 to 1878\n",
      "Data columns (total 8 columns):\n",
      " #   Column     Non-Null Count  Dtype  \n",
      "---  ------     --------------  -----  \n",
      " 0   Date       1879 non-null   object \n",
      " 1   Open       1879 non-null   float64\n",
      " 2   High       1879 non-null   float64\n",
      " 3   Low        1879 non-null   float64\n",
      " 4   Close      1879 non-null   float64\n",
      " 5   Adj Close  1879 non-null   float64\n",
      " 6   Volume     1879 non-null   int64  \n",
      " 7   Years      1879 non-null   int32  \n",
      "dtypes: float64(5), int32(1), int64(1), object(1)\n",
      "memory usage: 110.2+ KB\n"
     ]
    }
   ],
   "source": [
    "df1.info()"
   ]
  },
  {
   "cell_type": "code",
   "execution_count": 9,
   "metadata": {},
   "outputs": [
    {
     "data": {
      "text/html": [
       "<div>\n",
       "<style scoped>\n",
       "    .dataframe tbody tr th:only-of-type {\n",
       "        vertical-align: middle;\n",
       "    }\n",
       "\n",
       "    .dataframe tbody tr th {\n",
       "        vertical-align: top;\n",
       "    }\n",
       "\n",
       "    .dataframe thead th {\n",
       "        text-align: right;\n",
       "    }\n",
       "</style>\n",
       "<table border=\"1\" class=\"dataframe\">\n",
       "  <thead>\n",
       "    <tr style=\"text-align: right;\">\n",
       "      <th></th>\n",
       "      <th>Open</th>\n",
       "      <th>High</th>\n",
       "      <th>Low</th>\n",
       "      <th>Close</th>\n",
       "      <th>Adj Close</th>\n",
       "      <th>Volume</th>\n",
       "      <th>Years</th>\n",
       "    </tr>\n",
       "  </thead>\n",
       "  <tbody>\n",
       "    <tr>\n",
       "      <th>count</th>\n",
       "      <td>1879.000000</td>\n",
       "      <td>1879.000000</td>\n",
       "      <td>1879.000000</td>\n",
       "      <td>1879.000000</td>\n",
       "      <td>1879.000000</td>\n",
       "      <td>1.879000e+03</td>\n",
       "      <td>1879.000000</td>\n",
       "    </tr>\n",
       "    <tr>\n",
       "      <th>mean</th>\n",
       "      <td>71.971566</td>\n",
       "      <td>72.842632</td>\n",
       "      <td>71.066423</td>\n",
       "      <td>71.944726</td>\n",
       "      <td>69.728389</td>\n",
       "      <td>1.297076e+07</td>\n",
       "      <td>2020.251730</td>\n",
       "    </tr>\n",
       "    <tr>\n",
       "      <th>std</th>\n",
       "      <td>33.205392</td>\n",
       "      <td>33.352117</td>\n",
       "      <td>33.031794</td>\n",
       "      <td>33.218382</td>\n",
       "      <td>31.226139</td>\n",
       "      <td>8.648125e+06</td>\n",
       "      <td>2.165409</td>\n",
       "    </tr>\n",
       "    <tr>\n",
       "      <th>min</th>\n",
       "      <td>27.960997</td>\n",
       "      <td>28.210203</td>\n",
       "      <td>27.313059</td>\n",
       "      <td>27.362900</td>\n",
       "      <td>26.821478</td>\n",
       "      <td>1.981995e+06</td>\n",
       "      <td>2017.000000</td>\n",
       "    </tr>\n",
       "    <tr>\n",
       "      <th>25%</th>\n",
       "      <td>48.925512</td>\n",
       "      <td>49.891190</td>\n",
       "      <td>48.232288</td>\n",
       "      <td>48.946840</td>\n",
       "      <td>48.187868</td>\n",
       "      <td>7.416082e+06</td>\n",
       "      <td>2018.000000</td>\n",
       "    </tr>\n",
       "    <tr>\n",
       "      <th>50%</th>\n",
       "      <td>62.876778</td>\n",
       "      <td>63.697243</td>\n",
       "      <td>62.205837</td>\n",
       "      <td>62.936951</td>\n",
       "      <td>61.529762</td>\n",
       "      <td>1.061757e+07</td>\n",
       "      <td>2020.000000</td>\n",
       "    </tr>\n",
       "    <tr>\n",
       "      <th>75%</th>\n",
       "      <td>86.711891</td>\n",
       "      <td>87.597771</td>\n",
       "      <td>85.682365</td>\n",
       "      <td>86.739823</td>\n",
       "      <td>84.512661</td>\n",
       "      <td>1.561480e+07</td>\n",
       "      <td>2022.000000</td>\n",
       "    </tr>\n",
       "    <tr>\n",
       "      <th>max</th>\n",
       "      <td>168.759995</td>\n",
       "      <td>170.800003</td>\n",
       "      <td>168.100006</td>\n",
       "      <td>168.860001</td>\n",
       "      <td>168.860001</td>\n",
       "      <td>8.046506e+07</td>\n",
       "      <td>2024.000000</td>\n",
       "    </tr>\n",
       "  </tbody>\n",
       "</table>\n",
       "</div>"
      ],
      "text/plain": [
       "              Open         High          Low        Close    Adj Close  \\\n",
       "count  1879.000000  1879.000000  1879.000000  1879.000000  1879.000000   \n",
       "mean     71.971566    72.842632    71.066423    71.944726    69.728389   \n",
       "std      33.205392    33.352117    33.031794    33.218382    31.226139   \n",
       "min      27.960997    28.210203    27.313059    27.362900    26.821478   \n",
       "25%      48.925512    49.891190    48.232288    48.946840    48.187868   \n",
       "50%      62.876778    63.697243    62.205837    62.936951    61.529762   \n",
       "75%      86.711891    87.597771    85.682365    86.739823    84.512661   \n",
       "max     168.759995   170.800003   168.100006   168.860001   168.860001   \n",
       "\n",
       "             Volume        Years  \n",
       "count  1.879000e+03  1879.000000  \n",
       "mean   1.297076e+07  2020.251730  \n",
       "std    8.648125e+06     2.165409  \n",
       "min    1.981995e+06  2017.000000  \n",
       "25%    7.416082e+06  2018.000000  \n",
       "50%    1.061757e+07  2020.000000  \n",
       "75%    1.561480e+07  2022.000000  \n",
       "max    8.046506e+07  2024.000000  "
      ]
     },
     "execution_count": 9,
     "metadata": {},
     "output_type": "execute_result"
    }
   ],
   "source": [
    "df1.describe()"
   ]
  },
  {
   "cell_type": "markdown",
   "metadata": {},
   "source": [
    "1. The standard deviations for all price columns are around 28-29, suggesting a moderate level of price fluctuation. The volume's standard deviation is quite high, showing significant variability in trading activity."
   ]
  },
  {
   "cell_type": "code",
   "execution_count": 10,
   "metadata": {},
   "outputs": [
    {
     "data": {
      "text/plain": [
       "['Open', 'High', 'Low', 'Close', 'Adj Close']"
      ]
     },
     "execution_count": 10,
     "metadata": {},
     "output_type": "execute_result"
    }
   ],
   "source": [
    "# selecting the columns for input data - X  \n",
    "cols_select = list(df1)[1:6]\n",
    "cols_select"
   ]
  },
  {
   "cell_type": "markdown",
   "metadata": {},
   "source": [
    "Generating data for training "
   ]
  },
  {
   "cell_type": "code",
   "execution_count": 11,
   "metadata": {},
   "outputs": [
    {
     "data": {
      "text/html": [
       "<div>\n",
       "<style scoped>\n",
       "    .dataframe tbody tr th:only-of-type {\n",
       "        vertical-align: middle;\n",
       "    }\n",
       "\n",
       "    .dataframe tbody tr th {\n",
       "        vertical-align: top;\n",
       "    }\n",
       "\n",
       "    .dataframe thead th {\n",
       "        text-align: right;\n",
       "    }\n",
       "</style>\n",
       "<table border=\"1\" class=\"dataframe\">\n",
       "  <thead>\n",
       "    <tr style=\"text-align: right;\">\n",
       "      <th></th>\n",
       "      <th>Open</th>\n",
       "      <th>High</th>\n",
       "      <th>Low</th>\n",
       "      <th>Close</th>\n",
       "      <th>Adj Close</th>\n",
       "    </tr>\n",
       "  </thead>\n",
       "  <tbody>\n",
       "    <tr>\n",
       "      <th>0</th>\n",
       "      <td>151.776489</td>\n",
       "      <td>152.591202</td>\n",
       "      <td>150.482529</td>\n",
       "      <td>151.872345</td>\n",
       "      <td>137.021820</td>\n",
       "    </tr>\n",
       "    <tr>\n",
       "      <th>1</th>\n",
       "      <td>152.159882</td>\n",
       "      <td>152.543289</td>\n",
       "      <td>151.536865</td>\n",
       "      <td>151.920258</td>\n",
       "      <td>137.065033</td>\n",
       "    </tr>\n",
       "  </tbody>\n",
       "</table>\n",
       "</div>"
      ],
      "text/plain": [
       "         Open        High         Low       Close   Adj Close\n",
       "0  151.776489  152.591202  150.482529  151.872345  137.021820\n",
       "1  152.159882  152.543289  151.536865  151.920258  137.065033"
      ]
     },
     "execution_count": 11,
     "metadata": {},
     "output_type": "execute_result"
    }
   ],
   "source": [
    "df_training = df1[cols_select].astype(float)\n",
    "df_training.head(2)"
   ]
  },
  {
   "cell_type": "markdown",
   "metadata": {},
   "source": [
    "# Data Pre-processing "
   ]
  },
  {
   "cell_type": "markdown",
   "metadata": {},
   "source": [
    "## Training the data on LSTM\n",
    "#### LSTM uses sigmoid and tanh that are sensitive to magnitude so values need to be scale the data \n",
    "#### scaling the dataset"
   ]
  },
  {
   "cell_type": "code",
   "execution_count": 12,
   "metadata": {},
   "outputs": [
    {
     "data": {
      "text/plain": [
       "(1879, 5)"
      ]
     },
     "execution_count": 12,
     "metadata": {},
     "output_type": "execute_result"
    }
   ],
   "source": [
    "df_training.shape"
   ]
  },
  {
   "cell_type": "code",
   "execution_count": 13,
   "metadata": {},
   "outputs": [
    {
     "data": {
      "text/plain": [
       "array([[2.40401224, 2.39174619, 2.40487234, 2.40676668, 2.15560894],\n",
       "       [2.41556142, 2.39030923, 2.43679966, 2.40820943, 2.15699319],\n",
       "       [2.38957556, 2.37881043, 2.39181111, 2.38223419, 2.13206128],\n",
       "       ...,\n",
       "       [2.75415415, 2.76959788, 2.76454502, 2.80116105, 3.05087239],\n",
       "       [2.80144842, 2.80288801, 2.78543961, 2.80206437, 3.05183335],\n",
       "       [2.7872903 , 2.76150016, 2.73244625, 2.77917953, 3.02748845]])"
      ]
     },
     "execution_count": 13,
     "metadata": {},
     "output_type": "execute_result"
    }
   ],
   "source": [
    "scaler = StandardScaler()\n",
    "scaler = scaler.fit(df_training)\n",
    "# scaled dataset\n",
    "df_for_training_scaled = scaler.transform(df_training)\n",
    "df_for_training_scaled"
   ]
  },
  {
   "cell_type": "markdown",
   "metadata": {},
   "source": [
    "## Data Splitting\n",
    "### Applying Time based Splitting:\n",
    "Split the data into train, cross-validation, and test sets"
   ]
  },
  {
   "cell_type": "code",
   "execution_count": 14,
   "metadata": {},
   "outputs": [
    {
     "data": {
      "text/plain": [
       "1879"
      ]
     },
     "execution_count": 14,
     "metadata": {},
     "output_type": "execute_result"
    }
   ],
   "source": [
    "n_total = len(df_for_training_scaled)\n",
    "n_total"
   ]
  },
  {
   "cell_type": "code",
   "execution_count": 15,
   "metadata": {},
   "outputs": [
    {
     "name": "stdout",
     "output_type": "stream",
     "text": [
      "Train size:1315, Test Size:564\n"
     ]
    }
   ],
   "source": [
    "train_size = int(n_total * 0.7)                             \n",
    "test_size = n_total - train_size\n",
    "print(f\"Train size:{train_size}, Test Size:{test_size}\")"
   ]
  },
  {
   "cell_type": "code",
   "execution_count": 16,
   "metadata": {},
   "outputs": [],
   "source": [
    "# # Creating splitted data\n",
    "train_data = df_for_training_scaled[:train_size]\n",
    "test_data = df_for_training_scaled[train_size:]"
   ]
  },
  {
   "cell_type": "code",
   "execution_count": 17,
   "metadata": {},
   "outputs": [
    {
     "data": {
      "text/plain": [
       "(1315, 5)"
      ]
     },
     "execution_count": 17,
     "metadata": {},
     "output_type": "execute_result"
    }
   ],
   "source": [
    "train_data.shape"
   ]
  },
  {
   "cell_type": "markdown",
   "metadata": {},
   "source": [
    "1. As required for LSTM networks, we require to reshape an input data into (n_samples x timesteps x n_features). \n",
    "2. In this example, the n_features is 5. We will make timesteps = 14 (past days data used for training). "
   ]
  },
  {
   "cell_type": "code",
   "execution_count": 18,
   "metadata": {},
   "outputs": [],
   "source": [
    "n_future = 1   # n_timesteps - Number of days we want to look into the future based on the past days.\n",
    "n_past = 14  # n_samples - Number of past days we want to use to predict the future."
   ]
  },
  {
   "cell_type": "markdown",
   "metadata": {},
   "source": [
    "Reformat input data into a shape: (n_samples x timesteps x n_features)\n",
    "\n",
    "In my example, my df_for_training_scaled has a shape (1879, 5)\n",
    "\n",
    "1879 refers to the number of data points and 5 refers to the columns (multi-variables)."
   ]
  },
  {
   "cell_type": "markdown",
   "metadata": {},
   "source": [
    "Know defining the input(x) and output(y) columns for training, validation and testing."
   ]
  },
  {
   "cell_type": "code",
   "execution_count": 19,
   "metadata": {},
   "outputs": [
    {
     "data": {
      "text/plain": [
       "(1879, 5)"
      ]
     },
     "execution_count": 19,
     "metadata": {},
     "output_type": "execute_result"
    }
   ],
   "source": [
    "df_for_training_scaled.shape"
   ]
  },
  {
   "cell_type": "code",
   "execution_count": 20,
   "metadata": {},
   "outputs": [],
   "source": [
    "def createData(df):\n",
    "    X,y=[],[]\n",
    "    for i in range(n_past,len(df)-n_future+1):\n",
    "        X.append(df[i-n_past:i , 0:df.shape[1]])\n",
    "        y.append(df[i+n_future-1 : n_future + i,0])\n",
    "    return np.array(X),np.array(y)\n"
   ]
  },
  {
   "cell_type": "code",
   "execution_count": 21,
   "metadata": {},
   "outputs": [],
   "source": [
    "trainX,trainY = createData(train_data)\n",
    "testX,testY = createData(test_data)"
   ]
  },
  {
   "cell_type": "markdown",
   "metadata": {},
   "source": [
    "#### Finally out test , validation and training data has been generated"
   ]
  },
  {
   "cell_type": "code",
   "execution_count": 22,
   "metadata": {},
   "outputs": [
    {
     "name": "stdout",
     "output_type": "stream",
     "text": [
      "trainX shape == (1301, 14, 5).\n",
      "trainY shape == (1301, 1).\n",
      "testX shape == (550, 14, 5).\n",
      "testY shape == (550, 1).\n"
     ]
    }
   ],
   "source": [
    "print('trainX shape == {}.'.format(trainX.shape))\n",
    "print('trainY shape == {}.'.format(trainY.shape))\n",
    "print('testX shape == {}.'.format(testX.shape))\n",
    "print('testY shape == {}.'.format(testY.shape))"
   ]
  },
  {
   "cell_type": "code",
   "execution_count": 23,
   "metadata": {},
   "outputs": [
    {
     "data": {
      "text/plain": [
       "array([[ 2.14271054],\n",
       "       [ 2.22355559],\n",
       "       [ 2.22644263],\n",
       "       ...,\n",
       "       [-0.39545143],\n",
       "       [-0.3806251 ],\n",
       "       [-0.39301163]])"
      ]
     },
     "execution_count": 23,
     "metadata": {},
     "output_type": "execute_result"
    }
   ],
   "source": [
    "trainY"
   ]
  },
  {
   "cell_type": "code",
   "execution_count": 24,
   "metadata": {},
   "outputs": [
    {
     "data": {
      "text/plain": [
       "array([[[ 2.40401224,  2.39174619,  2.40487234,  2.40676668,\n",
       "          2.15560894],\n",
       "        [ 2.41556142,  2.39030923,  2.43679966,  2.40820943,\n",
       "          2.15699319],\n",
       "        [ 2.38957556,  2.37881043,  2.39181111,  2.38223419,\n",
       "          2.13206128],\n",
       "        ...,\n",
       "        [ 2.34337893,  2.31988125,  2.35407887,  2.33749837,\n",
       "          2.08912498],\n",
       "        [ 2.27263975,  2.25663986,  2.24523565,  2.23936796,\n",
       "          1.99494207],\n",
       "        [ 2.23510474,  2.20058505,  2.14074648,  2.12680699,\n",
       "          1.88690899]],\n",
       "\n",
       "       [[ 2.41556142,  2.39030923,  2.43679966,  2.40820943,\n",
       "          2.15699319],\n",
       "        [ 2.38957556,  2.37881043,  2.39181111,  2.38223419,\n",
       "          2.13206128],\n",
       "        [ 2.39101932,  2.38168523,  2.39906742,  2.39522205,\n",
       "          2.14452819],\n",
       "        ...,\n",
       "        [ 2.27263975,  2.25663986,  2.24523565,  2.23936796,\n",
       "          1.99494207],\n",
       "        [ 2.23510474,  2.20058505,  2.14074648,  2.12680699,\n",
       "          1.88690899],\n",
       "        [ 2.14271054,  2.13590625,  2.17557605,  2.16288413,\n",
       "          1.92153642]],\n",
       "\n",
       "       [[ 2.38957556,  2.37881043,  2.39181111,  2.38223419,\n",
       "          2.13206128],\n",
       "        [ 2.39101932,  2.38168523,  2.39906742,  2.39522205,\n",
       "          2.14452819],\n",
       "        [ 2.39968143,  2.36587465,  2.40922637,  2.3735755 ,\n",
       "          2.1237524 ],\n",
       "        ...,\n",
       "        [ 2.23510474,  2.20058505,  2.14074648,  2.12680699,\n",
       "          1.88690899],\n",
       "        [ 2.14271054,  2.13590625,  2.17557605,  2.16288413,\n",
       "          1.92153642],\n",
       "        [ 2.22355559,  2.19483588,  2.2336258 ,  2.21627869,\n",
       "          1.97278156]],\n",
       "\n",
       "       ...,\n",
       "\n",
       "       [[-0.38587992, -0.3897531 , -0.41879482, -0.43426008,\n",
       "         -0.41101466],\n",
       "        [-0.41403116, -0.41049334, -0.39596682, -0.39992907,\n",
       "         -0.37489069],\n",
       "        [-0.38625532, -0.40395364, -0.41671957, -0.43200892,\n",
       "         -0.40864602],\n",
       "        ...,\n",
       "        [-0.41384352, -0.40133782, -0.40238132, -0.38979843,\n",
       "         -0.36212645],\n",
       "        [-0.4001433 , -0.39890875, -0.3916277 , -0.37422758,\n",
       "         -0.3457237 ],\n",
       "        [-0.37405647, -0.39255583, -0.36804489, -0.373102  ,\n",
       "         -0.34453803]],\n",
       "\n",
       "       [[-0.41403116, -0.41049334, -0.39596682, -0.39992907,\n",
       "         -0.37489069],\n",
       "        [-0.38625532, -0.40395364, -0.41671957, -0.43200892,\n",
       "         -0.40864602],\n",
       "        [-0.47483801, -0.49401519, -0.50086261, -0.49410502,\n",
       "         -0.47398503],\n",
       "        ...,\n",
       "        [-0.4001433 , -0.39890875, -0.3916277 , -0.37422758,\n",
       "         -0.3457237 ],\n",
       "        [-0.37405647, -0.39255583, -0.36804489, -0.373102  ,\n",
       "         -0.34453803],\n",
       "        [-0.39545143, -0.39610599, -0.38521317, -0.38754727,\n",
       "         -0.35975498]],\n",
       "\n",
       "       [[-0.38625532, -0.40395364, -0.41671957, -0.43200892,\n",
       "         -0.40864602],\n",
       "        [-0.47483801, -0.49401519, -0.50086261, -0.49410502,\n",
       "         -0.47398503],\n",
       "        [-0.50392763, -0.51774503, -0.54293414, -0.56464333,\n",
       "         -0.5463102 ],\n",
       "        ...,\n",
       "        [-0.37405647, -0.39255583, -0.36804489, -0.373102  ,\n",
       "         -0.34453803],\n",
       "        [-0.39545143, -0.39610599, -0.38521317, -0.38754727,\n",
       "         -0.35975498],\n",
       "        [-0.3806251 , -0.38657671, -0.36729036, -0.38604653,\n",
       "         -0.3581739 ]]])"
      ]
     },
     "execution_count": 24,
     "metadata": {},
     "output_type": "execute_result"
    }
   ],
   "source": [
    "trainX"
   ]
  },
  {
   "cell_type": "markdown",
   "metadata": {},
   "source": [
    "based on the data of consecutive 14 (X) days we have taken output the data (Y) for  open price of stock\n",
    "the 15th day output is the expected output according to given data.\n",
    "given in trainY array"
   ]
  },
  {
   "cell_type": "markdown",
   "metadata": {},
   "source": [
    "In my case, trainX has a shape (1879, 14, 5). \n",
    "\n",
    "12809 because we are looking back 14 days (1879 - 14 = 1865). \n",
    "\n",
    "Remember that we cannot look back 14 days until we get to the 15th day. \n",
    "\n",
    "Also, trainY has a shape (1865, 1). Our model only predicts a single value, but \n",
    "it needs multiple variables (5 in my example) to make this prediction. \n",
    "\n",
    "This is why we can only predict a single day after our training, the day after where our data ends.\n",
    "\n",
    "To predict more days in future, we need all the 5 variables which we do not have. \n",
    "\n",
    "We need to predict all variables if we want to do that. "
   ]
  },
  {
   "cell_type": "markdown",
   "metadata": {},
   "source": [
    "### Applying LSTM Model "
   ]
  },
  {
   "cell_type": "code",
   "execution_count": 25,
   "metadata": {},
   "outputs": [
    {
     "data": {
      "text/plain": [
       "5"
      ]
     },
     "execution_count": 25,
     "metadata": {},
     "output_type": "execute_result"
    }
   ],
   "source": [
    "trainX.shape[2]      "
   ]
  },
  {
   "cell_type": "code",
   "execution_count": 26,
   "metadata": {},
   "outputs": [],
   "source": [
    "def create_model():\n",
    "    model = Sequential([\n",
    "        LSTM(128, activation='relu', input_shape=(trainX.shape[1], trainX.shape[2]), return_sequences=True),\n",
    "        LSTM(64, activation='relu', return_sequences=True),\n",
    "        LSTM(32, activation='relu'),\n",
    "        Dense(16, activation='relu'),\n",
    "        Dense(trainY.shape[1])\n",
    "    ])\n",
    "    return model"
   ]
  },
  {
   "cell_type": "code",
   "execution_count": 27,
   "metadata": {},
   "outputs": [
    {
     "name": "stderr",
     "output_type": "stream",
     "text": [
      "c:\\Users\\user\\AppData\\Local\\Programs\\Python\\Python312\\Lib\\site-packages\\keras\\src\\layers\\rnn\\rnn.py:204: UserWarning: Do not pass an `input_shape`/`input_dim` argument to a layer. When using Sequential models, prefer using an `Input(shape)` object as the first layer in the model instead.\n",
      "  super().__init__(**kwargs)\n"
     ]
    },
    {
     "name": "stdout",
     "output_type": "stream",
     "text": [
      "Epoch 1/200\n",
      "\u001b[1m33/33\u001b[0m \u001b[32m━━━━━━━━━━━━━━━━━━━━\u001b[0m\u001b[37m\u001b[0m \u001b[1m5s\u001b[0m 36ms/step - loss: 0.4669 - mse: 0.4602 - val_loss: 0.0931 - val_mse: 0.0115 - learning_rate: 0.0010\n",
      "Epoch 2/200\n",
      "\u001b[1m33/33\u001b[0m \u001b[32m━━━━━━━━━━━━━━━━━━━━\u001b[0m\u001b[37m\u001b[0m \u001b[1m1s\u001b[0m 17ms/step - loss: 0.0974 - mse: 0.0159 - val_loss: 0.0509 - val_mse: 0.0043 - learning_rate: 0.0010\n",
      "Epoch 3/200\n",
      "\u001b[1m33/33\u001b[0m \u001b[32m━━━━━━━━━━━━━━━━━━━━\u001b[0m\u001b[37m\u001b[0m \u001b[1m1s\u001b[0m 16ms/step - loss: 0.0982 - mse: 0.0181 - val_loss: 0.0501 - val_mse: 0.0041 - learning_rate: 0.0010\n",
      "Epoch 4/200\n",
      "\u001b[1m33/33\u001b[0m \u001b[32m━━━━━━━━━━━━━━━━━━━━\u001b[0m\u001b[37m\u001b[0m \u001b[1m1s\u001b[0m 21ms/step - loss: 0.0789 - mse: 0.0116 - val_loss: 0.0496 - val_mse: 0.0041 - learning_rate: 0.0010\n",
      "Epoch 5/200\n",
      "\u001b[1m33/33\u001b[0m \u001b[32m━━━━━━━━━━━━━━━━━━━━\u001b[0m\u001b[37m\u001b[0m \u001b[1m1s\u001b[0m 18ms/step - loss: 0.0749 - mse: 0.0097 - val_loss: 0.0486 - val_mse: 0.0038 - learning_rate: 0.0010\n",
      "Epoch 6/200\n",
      "\u001b[1m33/33\u001b[0m \u001b[32m━━━━━━━━━━━━━━━━━━━━\u001b[0m\u001b[37m\u001b[0m \u001b[1m1s\u001b[0m 22ms/step - loss: 0.0729 - mse: 0.0093 - val_loss: 0.0496 - val_mse: 0.0039 - learning_rate: 0.0010\n",
      "Epoch 7/200\n",
      "\u001b[1m33/33\u001b[0m \u001b[32m━━━━━━━━━━━━━━━━━━━━\u001b[0m\u001b[37m\u001b[0m \u001b[1m1s\u001b[0m 22ms/step - loss: 0.0791 - mse: 0.0112 - val_loss: 0.0509 - val_mse: 0.0040 - learning_rate: 0.0010\n",
      "Epoch 8/200\n",
      "\u001b[1m33/33\u001b[0m \u001b[32m━━━━━━━━━━━━━━━━━━━━\u001b[0m\u001b[37m\u001b[0m \u001b[1m0s\u001b[0m 12ms/step - loss: 0.0714 - mse: 0.0092 - val_loss: 0.0457 - val_mse: 0.0035 - learning_rate: 0.0010\n",
      "Epoch 9/200\n",
      "\u001b[1m33/33\u001b[0m \u001b[32m━━━━━━━━━━━━━━━━━━━━\u001b[0m\u001b[37m\u001b[0m \u001b[1m0s\u001b[0m 13ms/step - loss: 0.0648 - mse: 0.0079 - val_loss: 0.0482 - val_mse: 0.0039 - learning_rate: 0.0010\n",
      "Epoch 10/200\n",
      "\u001b[1m33/33\u001b[0m \u001b[32m━━━━━━━━━━━━━━━━━━━━\u001b[0m\u001b[37m\u001b[0m \u001b[1m1s\u001b[0m 17ms/step - loss: 0.0774 - mse: 0.0118 - val_loss: 0.0604 - val_mse: 0.0055 - learning_rate: 0.0010\n",
      "Epoch 11/200\n",
      "\u001b[1m33/33\u001b[0m \u001b[32m━━━━━━━━━━━━━━━━━━━━\u001b[0m\u001b[37m\u001b[0m \u001b[1m1s\u001b[0m 17ms/step - loss: 0.0653 - mse: 0.0075 - val_loss: 0.0435 - val_mse: 0.0033 - learning_rate: 0.0010\n",
      "Epoch 12/200\n",
      "\u001b[1m33/33\u001b[0m \u001b[32m━━━━━━━━━━━━━━━━━━━━\u001b[0m\u001b[37m\u001b[0m \u001b[1m1s\u001b[0m 14ms/step - loss: 0.0700 - mse: 0.0081 - val_loss: 0.0486 - val_mse: 0.0041 - learning_rate: 0.0010\n",
      "Epoch 13/200\n",
      "\u001b[1m33/33\u001b[0m \u001b[32m━━━━━━━━━━━━━━━━━━━━\u001b[0m\u001b[37m\u001b[0m \u001b[1m0s\u001b[0m 13ms/step - loss: 0.0740 - mse: 0.0092 - val_loss: 0.0432 - val_mse: 0.0032 - learning_rate: 0.0010\n",
      "Epoch 14/200\n",
      "\u001b[1m33/33\u001b[0m \u001b[32m━━━━━━━━━━━━━━━━━━━━\u001b[0m\u001b[37m\u001b[0m \u001b[1m0s\u001b[0m 13ms/step - loss: 0.0647 - mse: 0.0075 - val_loss: 0.0446 - val_mse: 0.0034 - learning_rate: 0.0010\n",
      "Epoch 15/200\n",
      "\u001b[1m33/33\u001b[0m \u001b[32m━━━━━━━━━━━━━━━━━━━━\u001b[0m\u001b[37m\u001b[0m \u001b[1m1s\u001b[0m 16ms/step - loss: 0.0615 - mse: 0.0067 - val_loss: 0.0413 - val_mse: 0.0030 - learning_rate: 0.0010\n",
      "Epoch 16/200\n",
      "\u001b[1m33/33\u001b[0m \u001b[32m━━━━━━━━━━━━━━━━━━━━\u001b[0m\u001b[37m\u001b[0m \u001b[1m0s\u001b[0m 12ms/step - loss: 0.0529 - mse: 0.0053 - val_loss: 0.0448 - val_mse: 0.0035 - learning_rate: 0.0010\n",
      "Epoch 17/200\n",
      "\u001b[1m33/33\u001b[0m \u001b[32m━━━━━━━━━━━━━━━━━━━━\u001b[0m\u001b[37m\u001b[0m \u001b[1m0s\u001b[0m 12ms/step - loss: 0.0582 - mse: 0.0059 - val_loss: 0.0467 - val_mse: 0.0034 - learning_rate: 0.0010\n",
      "Epoch 18/200\n",
      "\u001b[1m33/33\u001b[0m \u001b[32m━━━━━━━━━━━━━━━━━━━━\u001b[0m\u001b[37m\u001b[0m \u001b[1m0s\u001b[0m 14ms/step - loss: 0.0570 - mse: 0.0058 - val_loss: 0.0463 - val_mse: 0.0037 - learning_rate: 0.0010\n",
      "Epoch 19/200\n",
      "\u001b[1m33/33\u001b[0m \u001b[32m━━━━━━━━━━━━━━━━━━━━\u001b[0m\u001b[37m\u001b[0m \u001b[1m0s\u001b[0m 13ms/step - loss: 0.0560 - mse: 0.0056 - val_loss: 0.0388 - val_mse: 0.0027 - learning_rate: 0.0010\n",
      "Epoch 20/200\n",
      "\u001b[1m33/33\u001b[0m \u001b[32m━━━━━━━━━━━━━━━━━━━━\u001b[0m\u001b[37m\u001b[0m \u001b[1m0s\u001b[0m 13ms/step - loss: 0.0492 - mse: 0.0046 - val_loss: 0.0524 - val_mse: 0.0040 - learning_rate: 0.0010\n",
      "Epoch 21/200\n",
      "\u001b[1m33/33\u001b[0m \u001b[32m━━━━━━━━━━━━━━━━━━━━\u001b[0m\u001b[37m\u001b[0m \u001b[1m0s\u001b[0m 12ms/step - loss: 0.0515 - mse: 0.0047 - val_loss: 0.0382 - val_mse: 0.0025 - learning_rate: 0.0010\n",
      "Epoch 22/200\n",
      "\u001b[1m33/33\u001b[0m \u001b[32m━━━━━━━━━━━━━━━━━━━━\u001b[0m\u001b[37m\u001b[0m \u001b[1m0s\u001b[0m 14ms/step - loss: 0.0494 - mse: 0.0044 - val_loss: 0.0429 - val_mse: 0.0032 - learning_rate: 0.0010\n",
      "Epoch 23/200\n",
      "\u001b[1m33/33\u001b[0m \u001b[32m━━━━━━━━━━━━━━━━━━━━\u001b[0m\u001b[37m\u001b[0m \u001b[1m0s\u001b[0m 12ms/step - loss: 0.0476 - mse: 0.0042 - val_loss: 0.0355 - val_mse: 0.0023 - learning_rate: 0.0010\n",
      "Epoch 24/200\n",
      "\u001b[1m33/33\u001b[0m \u001b[32m━━━━━━━━━━━━━━━━━━━━\u001b[0m\u001b[37m\u001b[0m \u001b[1m0s\u001b[0m 12ms/step - loss: 0.0574 - mse: 0.0063 - val_loss: 0.0422 - val_mse: 0.0028 - learning_rate: 0.0010\n",
      "Epoch 25/200\n",
      "\u001b[1m33/33\u001b[0m \u001b[32m━━━━━━━━━━━━━━━━━━━━\u001b[0m\u001b[37m\u001b[0m \u001b[1m0s\u001b[0m 12ms/step - loss: 0.0483 - mse: 0.0043 - val_loss: 0.0349 - val_mse: 0.0022 - learning_rate: 0.0010\n",
      "Epoch 26/200\n",
      "\u001b[1m33/33\u001b[0m \u001b[32m━━━━━━━━━━━━━━━━━━━━\u001b[0m\u001b[37m\u001b[0m \u001b[1m0s\u001b[0m 12ms/step - loss: 0.0461 - mse: 0.0041 - val_loss: 0.0369 - val_mse: 0.0022 - learning_rate: 0.0010\n",
      "Epoch 27/200\n",
      "\u001b[1m33/33\u001b[0m \u001b[32m━━━━━━━━━━━━━━━━━━━━\u001b[0m\u001b[37m\u001b[0m \u001b[1m0s\u001b[0m 12ms/step - loss: 0.0512 - mse: 0.0051 - val_loss: 0.0390 - val_mse: 0.0026 - learning_rate: 0.0010\n",
      "Epoch 28/200\n",
      "\u001b[1m33/33\u001b[0m \u001b[32m━━━━━━━━━━━━━━━━━━━━\u001b[0m\u001b[37m\u001b[0m \u001b[1m0s\u001b[0m 11ms/step - loss: 0.0483 - mse: 0.0045 - val_loss: 0.0327 - val_mse: 0.0020 - learning_rate: 0.0010\n",
      "Epoch 29/200\n",
      "\u001b[1m33/33\u001b[0m \u001b[32m━━━━━━━━━━━━━━━━━━━━\u001b[0m\u001b[37m\u001b[0m \u001b[1m0s\u001b[0m 12ms/step - loss: 0.0439 - mse: 0.0038 - val_loss: 0.0394 - val_mse: 0.0026 - learning_rate: 0.0010\n",
      "Epoch 30/200\n",
      "\u001b[1m33/33\u001b[0m \u001b[32m━━━━━━━━━━━━━━━━━━━━\u001b[0m\u001b[37m\u001b[0m \u001b[1m0s\u001b[0m 11ms/step - loss: 0.0471 - mse: 0.0039 - val_loss: 0.0314 - val_mse: 0.0018 - learning_rate: 0.0010\n",
      "Epoch 31/200\n",
      "\u001b[1m33/33\u001b[0m \u001b[32m━━━━━━━━━━━━━━━━━━━━\u001b[0m\u001b[37m\u001b[0m \u001b[1m0s\u001b[0m 12ms/step - loss: 0.0360 - mse: 0.0026 - val_loss: 0.0308 - val_mse: 0.0018 - learning_rate: 1.0000e-04\n",
      "Epoch 32/200\n",
      "\u001b[1m33/33\u001b[0m \u001b[32m━━━━━━━━━━━━━━━━━━━━\u001b[0m\u001b[37m\u001b[0m \u001b[1m0s\u001b[0m 12ms/step - loss: 0.0365 - mse: 0.0029 - val_loss: 0.0308 - val_mse: 0.0018 - learning_rate: 1.0000e-04\n",
      "Epoch 33/200\n",
      "\u001b[1m33/33\u001b[0m \u001b[32m━━━━━━━━━━━━━━━━━━━━\u001b[0m\u001b[37m\u001b[0m \u001b[1m0s\u001b[0m 14ms/step - loss: 0.0353 - mse: 0.0026 - val_loss: 0.0304 - val_mse: 0.0017 - learning_rate: 1.0000e-04\n",
      "Epoch 34/200\n",
      "\u001b[1m33/33\u001b[0m \u001b[32m━━━━━━━━━━━━━━━━━━━━\u001b[0m\u001b[37m\u001b[0m \u001b[1m0s\u001b[0m 12ms/step - loss: 0.0349 - mse: 0.0025 - val_loss: 0.0298 - val_mse: 0.0017 - learning_rate: 1.0000e-04\n",
      "Epoch 35/200\n",
      "\u001b[1m33/33\u001b[0m \u001b[32m━━━━━━━━━━━━━━━━━━━━\u001b[0m\u001b[37m\u001b[0m \u001b[1m0s\u001b[0m 12ms/step - loss: 0.0345 - mse: 0.0027 - val_loss: 0.0294 - val_mse: 0.0016 - learning_rate: 1.0000e-04\n",
      "Epoch 36/200\n",
      "\u001b[1m33/33\u001b[0m \u001b[32m━━━━━━━━━━━━━━━━━━━━\u001b[0m\u001b[37m\u001b[0m \u001b[1m0s\u001b[0m 11ms/step - loss: 0.0319 - mse: 0.0021 - val_loss: 0.0290 - val_mse: 0.0016 - learning_rate: 1.0000e-04\n",
      "Epoch 37/200\n",
      "\u001b[1m33/33\u001b[0m \u001b[32m━━━━━━━━━━━━━━━━━━━━\u001b[0m\u001b[37m\u001b[0m \u001b[1m0s\u001b[0m 15ms/step - loss: 0.0326 - mse: 0.0022 - val_loss: 0.0296 - val_mse: 0.0016 - learning_rate: 1.0000e-04\n",
      "Epoch 38/200\n",
      "\u001b[1m33/33\u001b[0m \u001b[32m━━━━━━━━━━━━━━━━━━━━\u001b[0m\u001b[37m\u001b[0m \u001b[1m0s\u001b[0m 11ms/step - loss: 0.0330 - mse: 0.0022 - val_loss: 0.0299 - val_mse: 0.0017 - learning_rate: 1.0000e-04\n",
      "Epoch 39/200\n",
      "\u001b[1m33/33\u001b[0m \u001b[32m━━━━━━━━━━━━━━━━━━━━\u001b[0m\u001b[37m\u001b[0m \u001b[1m0s\u001b[0m 12ms/step - loss: 0.0331 - mse: 0.0024 - val_loss: 0.0297 - val_mse: 0.0016 - learning_rate: 1.0000e-04\n",
      "Epoch 40/200\n",
      "\u001b[1m33/33\u001b[0m \u001b[32m━━━━━━━━━━━━━━━━━━━━\u001b[0m\u001b[37m\u001b[0m \u001b[1m0s\u001b[0m 12ms/step - loss: 0.0327 - mse: 0.0023 - val_loss: 0.0286 - val_mse: 0.0015 - learning_rate: 1.0000e-04\n",
      "Epoch 41/200\n",
      "\u001b[1m33/33\u001b[0m \u001b[32m━━━━━━━━━━━━━━━━━━━━\u001b[0m\u001b[37m\u001b[0m \u001b[1m0s\u001b[0m 12ms/step - loss: 0.0335 - mse: 0.0024 - val_loss: 0.0313 - val_mse: 0.0017 - learning_rate: 1.0000e-04\n",
      "Epoch 42/200\n",
      "\u001b[1m33/33\u001b[0m \u001b[32m━━━━━━━━━━━━━━━━━━━━\u001b[0m\u001b[37m\u001b[0m \u001b[1m0s\u001b[0m 12ms/step - loss: 0.0298 - mse: 0.0020 - val_loss: 0.0278 - val_mse: 0.0014 - learning_rate: 1.0000e-04\n",
      "Epoch 43/200\n",
      "\u001b[1m33/33\u001b[0m \u001b[32m━━━━━━━━━━━━━━━━━━━━\u001b[0m\u001b[37m\u001b[0m \u001b[1m1s\u001b[0m 16ms/step - loss: 0.0312 - mse: 0.0020 - val_loss: 0.0287 - val_mse: 0.0015 - learning_rate: 1.0000e-04\n",
      "Epoch 44/200\n",
      "\u001b[1m33/33\u001b[0m \u001b[32m━━━━━━━━━━━━━━━━━━━━\u001b[0m\u001b[37m\u001b[0m \u001b[1m0s\u001b[0m 14ms/step - loss: 0.0314 - mse: 0.0022 - val_loss: 0.0274 - val_mse: 0.0014 - learning_rate: 1.0000e-04\n",
      "Epoch 45/200\n",
      "\u001b[1m33/33\u001b[0m \u001b[32m━━━━━━━━━━━━━━━━━━━━\u001b[0m\u001b[37m\u001b[0m \u001b[1m1s\u001b[0m 16ms/step - loss: 0.0304 - mse: 0.0020 - val_loss: 0.0265 - val_mse: 0.0013 - learning_rate: 1.0000e-04\n",
      "Epoch 46/200\n",
      "\u001b[1m33/33\u001b[0m \u001b[32m━━━━━━━━━━━━━━━━━━━━\u001b[0m\u001b[37m\u001b[0m \u001b[1m0s\u001b[0m 13ms/step - loss: 0.0312 - mse: 0.0021 - val_loss: 0.0274 - val_mse: 0.0014 - learning_rate: 1.0000e-04\n",
      "Epoch 47/200\n",
      "\u001b[1m33/33\u001b[0m \u001b[32m━━━━━━━━━━━━━━━━━━━━\u001b[0m\u001b[37m\u001b[0m \u001b[1m0s\u001b[0m 13ms/step - loss: 0.0284 - mse: 0.0018 - val_loss: 0.0265 - val_mse: 0.0013 - learning_rate: 1.0000e-04\n",
      "Epoch 48/200\n",
      "\u001b[1m33/33\u001b[0m \u001b[32m━━━━━━━━━━━━━━━━━━━━\u001b[0m\u001b[37m\u001b[0m \u001b[1m0s\u001b[0m 13ms/step - loss: 0.0284 - mse: 0.0019 - val_loss: 0.0273 - val_mse: 0.0014 - learning_rate: 1.0000e-04\n",
      "Epoch 49/200\n",
      "\u001b[1m33/33\u001b[0m \u001b[32m━━━━━━━━━━━━━━━━━━━━\u001b[0m\u001b[37m\u001b[0m \u001b[1m1s\u001b[0m 19ms/step - loss: 0.0275 - mse: 0.0017 - val_loss: 0.0259 - val_mse: 0.0012 - learning_rate: 1.0000e-04\n",
      "Epoch 50/200\n",
      "\u001b[1m33/33\u001b[0m \u001b[32m━━━━━━━━━━━━━━━━━━━━\u001b[0m\u001b[37m\u001b[0m \u001b[1m0s\u001b[0m 12ms/step - loss: 0.0312 - mse: 0.0023 - val_loss: 0.0278 - val_mse: 0.0014 - learning_rate: 1.0000e-04\n",
      "Epoch 51/200\n",
      "\u001b[1m33/33\u001b[0m \u001b[32m━━━━━━━━━━━━━━━━━━━━\u001b[0m\u001b[37m\u001b[0m \u001b[1m0s\u001b[0m 14ms/step - loss: 0.0286 - mse: 0.0018 - val_loss: 0.0251 - val_mse: 0.0012 - learning_rate: 1.0000e-04\n",
      "Epoch 52/200\n",
      "\u001b[1m33/33\u001b[0m \u001b[32m━━━━━━━━━━━━━━━━━━━━\u001b[0m\u001b[37m\u001b[0m \u001b[1m1s\u001b[0m 15ms/step - loss: 0.0260 - mse: 0.0015 - val_loss: 0.0259 - val_mse: 0.0012 - learning_rate: 1.0000e-04\n",
      "Epoch 53/200\n",
      "\u001b[1m33/33\u001b[0m \u001b[32m━━━━━━━━━━━━━━━━━━━━\u001b[0m\u001b[37m\u001b[0m \u001b[1m0s\u001b[0m 12ms/step - loss: 0.0275 - mse: 0.0018 - val_loss: 0.0248 - val_mse: 0.0011 - learning_rate: 1.0000e-04\n",
      "Epoch 54/200\n",
      "\u001b[1m33/33\u001b[0m \u001b[32m━━━━━━━━━━━━━━━━━━━━\u001b[0m\u001b[37m\u001b[0m \u001b[1m1s\u001b[0m 17ms/step - loss: 0.0279 - mse: 0.0018 - val_loss: 0.0247 - val_mse: 0.0011 - learning_rate: 1.0000e-04\n",
      "Epoch 55/200\n",
      "\u001b[1m33/33\u001b[0m \u001b[32m━━━━━━━━━━━━━━━━━━━━\u001b[0m\u001b[37m\u001b[0m \u001b[1m0s\u001b[0m 12ms/step - loss: 0.0261 - mse: 0.0017 - val_loss: 0.0234 - val_mse: 0.0010 - learning_rate: 1.0000e-04\n",
      "Epoch 56/200\n",
      "\u001b[1m33/33\u001b[0m \u001b[32m━━━━━━━━━━━━━━━━━━━━\u001b[0m\u001b[37m\u001b[0m \u001b[1m0s\u001b[0m 12ms/step - loss: 0.0278 - mse: 0.0020 - val_loss: 0.0261 - val_mse: 0.0012 - learning_rate: 1.0000e-04\n",
      "Epoch 57/200\n",
      "\u001b[1m33/33\u001b[0m \u001b[32m━━━━━━━━━━━━━━━━━━━━\u001b[0m\u001b[37m\u001b[0m \u001b[1m0s\u001b[0m 12ms/step - loss: 0.0278 - mse: 0.0018 - val_loss: 0.0264 - val_mse: 0.0012 - learning_rate: 1.0000e-04\n",
      "Epoch 58/200\n",
      "\u001b[1m33/33\u001b[0m \u001b[32m━━━━━━━━━━━━━━━━━━━━\u001b[0m\u001b[37m\u001b[0m \u001b[1m0s\u001b[0m 12ms/step - loss: 0.0267 - mse: 0.0017 - val_loss: 0.0233 - val_mse: 9.9631e-04 - learning_rate: 1.0000e-04\n",
      "Epoch 59/200\n",
      "\u001b[1m33/33\u001b[0m \u001b[32m━━━━━━━━━━━━━━━━━━━━\u001b[0m\u001b[37m\u001b[0m \u001b[1m1s\u001b[0m 15ms/step - loss: 0.0273 - mse: 0.0017 - val_loss: 0.0226 - val_mse: 9.4664e-04 - learning_rate: 1.0000e-04\n",
      "Epoch 60/200\n",
      "\u001b[1m33/33\u001b[0m \u001b[32m━━━━━━━━━━━━━━━━━━━━\u001b[0m\u001b[37m\u001b[0m \u001b[1m0s\u001b[0m 12ms/step - loss: 0.0256 - mse: 0.0015 - val_loss: 0.0242 - val_mse: 0.0011 - learning_rate: 1.0000e-04\n",
      "Epoch 61/200\n",
      "\u001b[1m33/33\u001b[0m \u001b[32m━━━━━━━━━━━━━━━━━━━━\u001b[0m\u001b[37m\u001b[0m \u001b[1m0s\u001b[0m 12ms/step - loss: 0.0248 - mse: 0.0016 - val_loss: 0.0236 - val_mse: 0.0010 - learning_rate: 1.0000e-05\n",
      "Epoch 62/200\n",
      "\u001b[1m33/33\u001b[0m \u001b[32m━━━━━━━━━━━━━━━━━━━━\u001b[0m\u001b[37m\u001b[0m \u001b[1m1s\u001b[0m 15ms/step - loss: 0.0249 - mse: 0.0015 - val_loss: 0.0233 - val_mse: 9.9777e-04 - learning_rate: 1.0000e-05\n",
      "Epoch 63/200\n",
      "\u001b[1m33/33\u001b[0m \u001b[32m━━━━━━━━━━━━━━━━━━━━\u001b[0m\u001b[37m\u001b[0m \u001b[1m1s\u001b[0m 15ms/step - loss: 0.0240 - mse: 0.0015 - val_loss: 0.0235 - val_mse: 0.0010 - learning_rate: 1.0000e-05\n",
      "Epoch 64/200\n",
      "\u001b[1m33/33\u001b[0m \u001b[32m━━━━━━━━━━━━━━━━━━━━\u001b[0m\u001b[37m\u001b[0m \u001b[1m0s\u001b[0m 11ms/step - loss: 0.0251 - mse: 0.0016 - val_loss: 0.0243 - val_mse: 0.0011 - learning_rate: 1.0000e-05\n",
      "Epoch 65/200\n",
      "\u001b[1m33/33\u001b[0m \u001b[32m━━━━━━━━━━━━━━━━━━━━\u001b[0m\u001b[37m\u001b[0m \u001b[1m1s\u001b[0m 17ms/step - loss: 0.0253 - mse: 0.0016 - val_loss: 0.0241 - val_mse: 0.0010 - learning_rate: 1.0000e-05\n",
      "Epoch 66/200\n",
      "\u001b[1m33/33\u001b[0m \u001b[32m━━━━━━━━━━━━━━━━━━━━\u001b[0m\u001b[37m\u001b[0m \u001b[1m1s\u001b[0m 15ms/step - loss: 0.0246 - mse: 0.0015 - val_loss: 0.0236 - val_mse: 0.0010 - learning_rate: 1.0000e-05\n",
      "Epoch 67/200\n",
      "\u001b[1m33/33\u001b[0m \u001b[32m━━━━━━━━━━━━━━━━━━━━\u001b[0m\u001b[37m\u001b[0m \u001b[1m0s\u001b[0m 12ms/step - loss: 0.0233 - mse: 0.0013 - val_loss: 0.0237 - val_mse: 0.0010 - learning_rate: 1.0000e-05\n",
      "Epoch 68/200\n",
      "\u001b[1m33/33\u001b[0m \u001b[32m━━━━━━━━━━━━━━━━━━━━\u001b[0m\u001b[37m\u001b[0m \u001b[1m1s\u001b[0m 18ms/step - loss: 0.0241 - mse: 0.0015 - val_loss: 0.0237 - val_mse: 0.0010 - learning_rate: 1.0000e-05\n",
      "Epoch 69/200\n",
      "\u001b[1m33/33\u001b[0m \u001b[32m━━━━━━━━━━━━━━━━━━━━\u001b[0m\u001b[37m\u001b[0m \u001b[1m0s\u001b[0m 12ms/step - loss: 0.0238 - mse: 0.0013 - val_loss: 0.0247 - val_mse: 0.0011 - learning_rate: 1.0000e-05\n",
      "Epoch 70/200\n",
      "\u001b[1m33/33\u001b[0m \u001b[32m━━━━━━━━━━━━━━━━━━━━\u001b[0m\u001b[37m\u001b[0m \u001b[1m0s\u001b[0m 14ms/step - loss: 0.0251 - mse: 0.0016 - val_loss: 0.0235 - val_mse: 0.0010 - learning_rate: 1.0000e-05\n",
      "Epoch 71/200\n",
      "\u001b[1m33/33\u001b[0m \u001b[32m━━━━━━━━━━━━━━━━━━━━\u001b[0m\u001b[37m\u001b[0m \u001b[1m1s\u001b[0m 17ms/step - loss: 0.0235 - mse: 0.0014 - val_loss: 0.0227 - val_mse: 9.5268e-04 - learning_rate: 1.0000e-05\n",
      "Epoch 72/200\n",
      "\u001b[1m33/33\u001b[0m \u001b[32m━━━━━━━━━━━━━━━━━━━━\u001b[0m\u001b[37m\u001b[0m \u001b[1m1s\u001b[0m 19ms/step - loss: 0.0231 - mse: 0.0013 - val_loss: 0.0226 - val_mse: 9.4080e-04 - learning_rate: 1.0000e-05\n",
      "Epoch 73/200\n",
      "\u001b[1m33/33\u001b[0m \u001b[32m━━━━━━━━━━━━━━━━━━━━\u001b[0m\u001b[37m\u001b[0m \u001b[1m1s\u001b[0m 15ms/step - loss: 0.0239 - mse: 0.0014 - val_loss: 0.0230 - val_mse: 9.7219e-04 - learning_rate: 1.0000e-05\n",
      "Epoch 74/200\n",
      "\u001b[1m33/33\u001b[0m \u001b[32m━━━━━━━━━━━━━━━━━━━━\u001b[0m\u001b[37m\u001b[0m \u001b[1m0s\u001b[0m 13ms/step - loss: 0.0235 - mse: 0.0014 - val_loss: 0.0229 - val_mse: 9.6847e-04 - learning_rate: 1.0000e-05\n",
      "Epoch 75/200\n",
      "\u001b[1m33/33\u001b[0m \u001b[32m━━━━━━━━━━━━━━━━━━━━\u001b[0m\u001b[37m\u001b[0m \u001b[1m1s\u001b[0m 15ms/step - loss: 0.0235 - mse: 0.0014 - val_loss: 0.0234 - val_mse: 9.9678e-04 - learning_rate: 1.0000e-05\n",
      "Epoch 76/200\n",
      "\u001b[1m33/33\u001b[0m \u001b[32m━━━━━━━━━━━━━━━━━━━━\u001b[0m\u001b[37m\u001b[0m \u001b[1m0s\u001b[0m 12ms/step - loss: 0.0235 - mse: 0.0013 - val_loss: 0.0240 - val_mse: 0.0010 - learning_rate: 1.0000e-05\n",
      "Epoch 77/200\n",
      "\u001b[1m33/33\u001b[0m \u001b[32m━━━━━━━━━━━━━━━━━━━━\u001b[0m\u001b[37m\u001b[0m \u001b[1m1s\u001b[0m 18ms/step - loss: 0.0234 - mse: 0.0014 - val_loss: 0.0238 - val_mse: 0.0010 - learning_rate: 1.0000e-05\n",
      "Epoch 78/200\n",
      "\u001b[1m33/33\u001b[0m \u001b[32m━━━━━━━━━━━━━━━━━━━━\u001b[0m\u001b[37m\u001b[0m \u001b[1m1s\u001b[0m 20ms/step - loss: 0.0248 - mse: 0.0017 - val_loss: 0.0236 - val_mse: 0.0010 - learning_rate: 1.0000e-05\n",
      "Epoch 79/200\n",
      "\u001b[1m33/33\u001b[0m \u001b[32m━━━━━━━━━━━━━━━━━━━━\u001b[0m\u001b[37m\u001b[0m \u001b[1m1s\u001b[0m 15ms/step - loss: 0.0252 - mse: 0.0017 - val_loss: 0.0232 - val_mse: 9.8081e-04 - learning_rate: 1.0000e-05\n",
      "Epoch 80/200\n",
      "\u001b[1m33/33\u001b[0m \u001b[32m━━━━━━━━━━━━━━━━━━━━\u001b[0m\u001b[37m\u001b[0m \u001b[1m1s\u001b[0m 15ms/step - loss: 0.0245 - mse: 0.0016 - val_loss: 0.0234 - val_mse: 9.9682e-04 - learning_rate: 1.0000e-05\n",
      "Epoch 81/200\n",
      "\u001b[1m33/33\u001b[0m \u001b[32m━━━━━━━━━━━━━━━━━━━━\u001b[0m\u001b[37m\u001b[0m \u001b[1m1s\u001b[0m 21ms/step - loss: 0.0229 - mse: 0.0014 - val_loss: 0.0233 - val_mse: 9.8956e-04 - learning_rate: 1.0000e-05\n",
      "Epoch 82/200\n",
      "\u001b[1m33/33\u001b[0m \u001b[32m━━━━━━━━━━━━━━━━━━━━\u001b[0m\u001b[37m\u001b[0m \u001b[1m1s\u001b[0m 21ms/step - loss: 0.0228 - mse: 0.0014 - val_loss: 0.0226 - val_mse: 9.4385e-04 - learning_rate: 1.0000e-05\n",
      "Epoch 83/200\n",
      "\u001b[1m33/33\u001b[0m \u001b[32m━━━━━━━━━━━━━━━━━━━━\u001b[0m\u001b[37m\u001b[0m \u001b[1m1s\u001b[0m 17ms/step - loss: 0.0224 - mse: 0.0012 - val_loss: 0.0230 - val_mse: 9.6826e-04 - learning_rate: 1.0000e-05\n",
      "Epoch 84/200\n",
      "\u001b[1m33/33\u001b[0m \u001b[32m━━━━━━━━━━━━━━━━━━━━\u001b[0m\u001b[37m\u001b[0m \u001b[1m0s\u001b[0m 11ms/step - loss: 0.0219 - mse: 0.0012 - val_loss: 0.0228 - val_mse: 9.5445e-04 - learning_rate: 1.0000e-05\n",
      "Epoch 85/200\n",
      "\u001b[1m33/33\u001b[0m \u001b[32m━━━━━━━━━━━━━━━━━━━━\u001b[0m\u001b[37m\u001b[0m \u001b[1m1s\u001b[0m 15ms/step - loss: 0.0236 - mse: 0.0014 - val_loss: 0.0229 - val_mse: 9.6265e-04 - learning_rate: 1.0000e-05\n",
      "Epoch 86/200\n",
      "\u001b[1m33/33\u001b[0m \u001b[32m━━━━━━━━━━━━━━━━━━━━\u001b[0m\u001b[37m\u001b[0m \u001b[1m0s\u001b[0m 13ms/step - loss: 0.0230 - mse: 0.0014 - val_loss: 0.0233 - val_mse: 9.8531e-04 - learning_rate: 1.0000e-05\n",
      "Epoch 87/200\n",
      "\u001b[1m33/33\u001b[0m \u001b[32m━━━━━━━━━━━━━━━━━━━━\u001b[0m\u001b[37m\u001b[0m \u001b[1m0s\u001b[0m 13ms/step - loss: 0.0216 - mse: 0.0011 - val_loss: 0.0223 - val_mse: 9.1509e-04 - learning_rate: 1.0000e-05\n",
      "Epoch 88/200\n",
      "\u001b[1m33/33\u001b[0m \u001b[32m━━━━━━━━━━━━━━━━━━━━\u001b[0m\u001b[37m\u001b[0m \u001b[1m0s\u001b[0m 12ms/step - loss: 0.0229 - mse: 0.0013 - val_loss: 0.0224 - val_mse: 9.2753e-04 - learning_rate: 1.0000e-05\n",
      "Epoch 89/200\n",
      "\u001b[1m33/33\u001b[0m \u001b[32m━━━━━━━━━━━━━━━━━━━━\u001b[0m\u001b[37m\u001b[0m \u001b[1m1s\u001b[0m 20ms/step - loss: 0.0227 - mse: 0.0013 - val_loss: 0.0224 - val_mse: 9.2285e-04 - learning_rate: 1.0000e-05\n",
      "Epoch 90/200\n",
      "\u001b[1m33/33\u001b[0m \u001b[32m━━━━━━━━━━━━━━━━━━━━\u001b[0m\u001b[37m\u001b[0m \u001b[1m0s\u001b[0m 12ms/step - loss: 0.0225 - mse: 0.0013 - val_loss: 0.0234 - val_mse: 9.9128e-04 - learning_rate: 1.0000e-05\n",
      "Epoch 91/200\n",
      "\u001b[1m33/33\u001b[0m \u001b[32m━━━━━━━━━━━━━━━━━━━━\u001b[0m\u001b[37m\u001b[0m \u001b[1m0s\u001b[0m 12ms/step - loss: 0.0235 - mse: 0.0014 - val_loss: 0.0232 - val_mse: 9.7761e-04 - learning_rate: 1.0000e-06\n",
      "Epoch 92/200\n",
      "\u001b[1m33/33\u001b[0m \u001b[32m━━━━━━━━━━━━━━━━━━━━\u001b[0m\u001b[37m\u001b[0m \u001b[1m0s\u001b[0m 12ms/step - loss: 0.0261 - mse: 0.0017 - val_loss: 0.0231 - val_mse: 9.6892e-04 - learning_rate: 1.0000e-06\n",
      "Epoch 93/200\n",
      "\u001b[1m33/33\u001b[0m \u001b[32m━━━━━━━━━━━━━━━━━━━━\u001b[0m\u001b[37m\u001b[0m \u001b[1m0s\u001b[0m 12ms/step - loss: 0.0233 - mse: 0.0013 - val_loss: 0.0230 - val_mse: 9.6556e-04 - learning_rate: 1.0000e-06\n",
      "Epoch 94/200\n",
      "\u001b[1m33/33\u001b[0m \u001b[32m━━━━━━━━━━━━━━━━━━━━\u001b[0m\u001b[37m\u001b[0m \u001b[1m0s\u001b[0m 12ms/step - loss: 0.0229 - mse: 0.0013 - val_loss: 0.0230 - val_mse: 9.6430e-04 - learning_rate: 1.0000e-06\n",
      "Epoch 95/200\n",
      "\u001b[1m33/33\u001b[0m \u001b[32m━━━━━━━━━━━━━━━━━━━━\u001b[0m\u001b[37m\u001b[0m \u001b[1m0s\u001b[0m 11ms/step - loss: 0.0213 - mse: 0.0011 - val_loss: 0.0230 - val_mse: 9.6299e-04 - learning_rate: 1.0000e-06\n",
      "Epoch 96/200\n",
      "\u001b[1m33/33\u001b[0m \u001b[32m━━━━━━━━━━━━━━━━━━━━\u001b[0m\u001b[37m\u001b[0m \u001b[1m0s\u001b[0m 14ms/step - loss: 0.0225 - mse: 0.0013 - val_loss: 0.0230 - val_mse: 9.6615e-04 - learning_rate: 1.0000e-06\n",
      "Epoch 97/200\n",
      "\u001b[1m33/33\u001b[0m \u001b[32m━━━━━━━━━━━━━━━━━━━━\u001b[0m\u001b[37m\u001b[0m \u001b[1m1s\u001b[0m 18ms/step - loss: 0.0235 - mse: 0.0014 - val_loss: 0.0230 - val_mse: 9.6253e-04 - learning_rate: 1.0000e-06\n",
      "Epoch 98/200\n",
      "\u001b[1m33/33\u001b[0m \u001b[32m━━━━━━━━━━━━━━━━━━━━\u001b[0m\u001b[37m\u001b[0m \u001b[1m0s\u001b[0m 12ms/step - loss: 0.0223 - mse: 0.0013 - val_loss: 0.0229 - val_mse: 9.6010e-04 - learning_rate: 1.0000e-06\n",
      "Epoch 99/200\n",
      "\u001b[1m33/33\u001b[0m \u001b[32m━━━━━━━━━━━━━━━━━━━━\u001b[0m\u001b[37m\u001b[0m \u001b[1m0s\u001b[0m 12ms/step - loss: 0.0235 - mse: 0.0015 - val_loss: 0.0229 - val_mse: 9.5903e-04 - learning_rate: 1.0000e-06\n",
      "Epoch 100/200\n",
      "\u001b[1m33/33\u001b[0m \u001b[32m━━━━━━━━━━━━━━━━━━━━\u001b[0m\u001b[37m\u001b[0m \u001b[1m1s\u001b[0m 17ms/step - loss: 0.0237 - mse: 0.0014 - val_loss: 0.0229 - val_mse: 9.5934e-04 - learning_rate: 1.0000e-06\n",
      "Epoch 101/200\n",
      "\u001b[1m33/33\u001b[0m \u001b[32m━━━━━━━━━━━━━━━━━━━━\u001b[0m\u001b[37m\u001b[0m \u001b[1m0s\u001b[0m 12ms/step - loss: 0.0217 - mse: 0.0012 - val_loss: 0.0230 - val_mse: 9.6190e-04 - learning_rate: 1.0000e-06\n",
      "Epoch 102/200\n",
      "\u001b[1m33/33\u001b[0m \u001b[32m━━━━━━━━━━━━━━━━━━━━\u001b[0m\u001b[37m\u001b[0m \u001b[1m0s\u001b[0m 12ms/step - loss: 0.0227 - mse: 0.0013 - val_loss: 0.0228 - val_mse: 9.5461e-04 - learning_rate: 1.0000e-06\n",
      "Epoch 103/200\n",
      "\u001b[1m33/33\u001b[0m \u001b[32m━━━━━━━━━━━━━━━━━━━━\u001b[0m\u001b[37m\u001b[0m \u001b[1m0s\u001b[0m 12ms/step - loss: 0.0235 - mse: 0.0015 - val_loss: 0.0230 - val_mse: 9.6234e-04 - learning_rate: 1.0000e-06\n",
      "Epoch 104/200\n",
      "\u001b[1m33/33\u001b[0m \u001b[32m━━━━━━━━━━━━━━━━━━━━\u001b[0m\u001b[37m\u001b[0m \u001b[1m0s\u001b[0m 12ms/step - loss: 0.0217 - mse: 0.0011 - val_loss: 0.0228 - val_mse: 9.5332e-04 - learning_rate: 1.0000e-06\n",
      "Epoch 105/200\n",
      "\u001b[1m33/33\u001b[0m \u001b[32m━━━━━━━━━━━━━━━━━━━━\u001b[0m\u001b[37m\u001b[0m \u001b[1m0s\u001b[0m 12ms/step - loss: 0.0221 - mse: 0.0012 - val_loss: 0.0229 - val_mse: 9.5843e-04 - learning_rate: 1.0000e-06\n",
      "Epoch 106/200\n",
      "\u001b[1m33/33\u001b[0m \u001b[32m━━━━━━━━━━━━━━━━━━━━\u001b[0m\u001b[37m\u001b[0m \u001b[1m0s\u001b[0m 14ms/step - loss: 0.0230 - mse: 0.0014 - val_loss: 0.0228 - val_mse: 9.5028e-04 - learning_rate: 1.0000e-06\n",
      "Epoch 107/200\n",
      "\u001b[1m33/33\u001b[0m \u001b[32m━━━━━━━━━━━━━━━━━━━━\u001b[0m\u001b[37m\u001b[0m \u001b[1m1s\u001b[0m 15ms/step - loss: 0.0232 - mse: 0.0014 - val_loss: 0.0229 - val_mse: 9.5672e-04 - learning_rate: 1.0000e-06\n"
     ]
    }
   ],
   "source": [
    "# Initially, for epoch < 30, the learning rate (lr) remains 1e-3 (0.001).\n",
    "# After epoch >= 30, the learning rate decreases by a factor of 0.1 every 30 epochs. Specifically:\n",
    "\n",
    "def lr_schedule(epoch):\n",
    "    return 1e-3 * (0.1 ** int(epoch / 30))\n",
    "\n",
    "model = create_model()\n",
    "optimizer = Adam(learning_rate=1e-3)\n",
    "model.compile(loss='mae', optimizer=optimizer, metrics=['mse'])\n",
    "lr_scheduler = LearningRateScheduler(lr_schedule)\n",
    "early_stopping = EarlyStopping(monitor='val_loss', patience=20, restore_best_weights=True)\n",
    "\n",
    "history = model.fit(\n",
    "    trainX, trainY,\n",
    "    epochs=200,\n",
    "    batch_size=32,\n",
    "    validation_split=0.2,\n",
    "    callbacks=[lr_scheduler, early_stopping],\n",
    "    verbose=1\n",
    ")"
   ]
  },
  {
   "cell_type": "markdown",
   "metadata": {},
   "source": [
    "### Fiting and Training the model"
   ]
  },
  {
   "cell_type": "code",
   "execution_count": 28,
   "metadata": {},
   "outputs": [],
   "source": [
    "# history = model.fit(trainX, trainY, epochs=100, batch_size=32, validation_data=(testX,testY), verbose=1)\n"
   ]
  },
  {
   "cell_type": "code",
   "execution_count": 29,
   "metadata": {},
   "outputs": [
    {
     "data": {
      "image/png": "[encoded data removed]",
      "text/plain": [
       "<Figure size 640x480 with 1 Axes>"
      ]
     },
     "metadata": {},
     "output_type": "display_data"
    }
   ],
   "source": [
    "plt.plot(history.history['loss'], label='Training loss')\n",
    "plt.plot(history.history['val_loss'], label='Validation loss')\n",
    "plt.xlabel('Epochs')\n",
    "plt.ylabel('Loss')\n",
    "plt.legend()\n",
    "plt.show()\n"
   ]
  },
  {
   "cell_type": "markdown",
   "metadata": {},
   "source": [
    "1. Overall Trend: Both training and validation losses decrease over time, which is a positive sign indicating that the model is learning.\n",
    "\n",
    "\n",
    "2. Training Loss (Blue Line): Starts very high (around 16) and decreases rapidly in the first 20 epochs.\n",
    "Continues to decrease more gradually until about epoch 50.\n",
    "Stabilizes at a very low value after epoch 50.\n",
    "\n",
    "\n",
    "3. Validation Loss (Orange Line): Starts lower than the training loss (around 3).\n",
    "Decreases quickly in the first 10-15 epochs.\n",
    "Stabilizes much earlier than the training loss, around epoch 20.\n",
    "\n",
    "\n",
    "4. Convergence: The training and validation losses converge around epoch 50.\n",
    "After convergence, both losses remain stable and very close to each other.\n",
    "\n",
    "\n",
    "5. Overfitting: There's no clear sign of overfitting, as the validation loss doesn't increase while the training loss continues to decrease.\n",
    "\n",
    "\n",
    "6. Model Performance: The model appears to be learning effectively, as both losses decrease and converge.\n",
    "The final low and stable loss values suggest good performance on both training and validation data.\n",
    "\n",
    "\n",
    "7. Learning Rate: The rapid initial decrease in loss might indicate an effective learning rate strategy.\n",
    "\n",
    "\n",
    "8. Potential Early Stopping Point: Around epoch 50-60 could be a good point for early stopping, as the losses have converged and stabilized."
   ]
  },
  {
   "cell_type": "markdown",
   "metadata": {},
   "source": [
    "### Making Prediciton"
   ]
  },
  {
   "cell_type": "code",
   "execution_count": 30,
   "metadata": {},
   "outputs": [
    {
     "data": {
      "text/plain": [
       "(1301, 14, 5)"
      ]
     },
     "execution_count": 30,
     "metadata": {},
     "output_type": "execute_result"
    }
   ],
   "source": [
    "trainX.shape"
   ]
  },
  {
   "cell_type": "code",
   "execution_count": 31,
   "metadata": {},
   "outputs": [
    {
     "name": "stdout",
     "output_type": "stream",
     "text": [
      "\u001b[1m41/41\u001b[0m \u001b[32m━━━━━━━━━━━━━━━━━━━━\u001b[0m\u001b[37m\u001b[0m \u001b[1m1s\u001b[0m 13ms/step\n",
      "\u001b[1m18/18\u001b[0m \u001b[32m━━━━━━━━━━━━━━━━━━━━\u001b[0m\u001b[37m\u001b[0m \u001b[1m0s\u001b[0m 5ms/step\n"
     ]
    }
   ],
   "source": [
    "# Make predictions\n",
    "train_prediction = model.predict(trainX)\n",
    "test_prediction = model.predict(testX)\n"
   ]
  },
  {
   "cell_type": "code",
   "execution_count": 32,
   "metadata": {},
   "outputs": [
    {
     "data": {
      "text/plain": [
       "array([[ 2.1588562 ],\n",
       "       [ 2.1569152 ],\n",
       "       [ 2.2347457 ],\n",
       "       ...,\n",
       "       [-0.3748108 ],\n",
       "       [-0.38396853],\n",
       "       [-0.38296986]], dtype=float32)"
      ]
     },
     "execution_count": 32,
     "metadata": {},
     "output_type": "execute_result"
    }
   ],
   "source": [
    "train_prediction"
   ]
  },
  {
   "cell_type": "code",
   "execution_count": 33,
   "metadata": {},
   "outputs": [
    {
     "name": "stdout",
     "output_type": "stream",
     "text": [
      "Train Prediciton shape:(1301, 1) , Test Prediciton shape:(550, 1)\n"
     ]
    }
   ],
   "source": [
    "print(f'Train Prediciton shape:{train_prediction.shape} , Test Prediciton shape:{test_prediction.shape}')"
   ]
  },
  {
   "cell_type": "code",
   "execution_count": 34,
   "metadata": {},
   "outputs": [],
   "source": [
    "# Inverse transform predictions\n",
    "pred_train = np.repeat(train_prediction, df_training.shape[1], axis=-1)\n",
    "y_pred_Train = scaler.inverse_transform(pred_train)[:,0]\n",
    "\n",
    "pred_test = np.repeat(test_prediction, df_training.shape[1], axis=-1)\n",
    "y_pred_Test = scaler.inverse_transform(pred_test)[:,0]"
   ]
  },
  {
   "cell_type": "code",
   "execution_count": 35,
   "metadata": {},
   "outputs": [
    {
     "name": "stdout",
     "output_type": "stream",
     "text": [
      "Train Prediciton shape:(1301, 5) , Test Prediciton shape:(550, 5)\n",
      "New Train Prediciton shape:(1301,) , Test Prediciton shape:(550,)\n"
     ]
    }
   ],
   "source": [
    "print(f'Train Prediciton shape:{pred_train.shape} , Test Prediciton shape:{pred_test.shape}')\n",
    "print(f'New Train Prediciton shape:{y_pred_Train.shape} , Test Prediciton shape:{y_pred_Test.shape}')"
   ]
  },
  {
   "cell_type": "markdown",
   "metadata": {},
   "source": [
    "since earlier shape of original dataset is same<br>\n",
    "trainX shape == (1301, 14, 5).<br>\n",
    "trainY shape == (1301, 1).<br>\n",
    "testX shape == (550, 14, 5).<br>\n",
    "testY shape == (550, 1).<br>"
   ]
  },
  {
   "cell_type": "code",
   "execution_count": 36,
   "metadata": {},
   "outputs": [
    {
     "name": "stdout",
     "output_type": "stream",
     "text": [
      "MSE of train set:73.04298089872384\n",
      "MSE of test set:89.5514869597163\n",
      "MAE of train set:8.177996107259048\n",
      "MAE of test set:9.086980361098934\n"
     ]
    }
   ],
   "source": [
    "import math\n",
    "from sklearn.metrics import mean_squared_error\n",
    "from sklearn.metrics import mean_absolute_error\n",
    "\n",
    "print(f'MSE of train set:{math.sqrt(mean_squared_error(trainY,y_pred_Train))}')\n",
    "print(f'MSE of test set:{math.sqrt(mean_squared_error(testY,y_pred_Test))}')\n",
    "\n",
    "print(f'MAE of train set:{math.sqrt(mean_absolute_error(trainY,y_pred_Train))}')\n",
    "print(f'MAE of test set:{math.sqrt(mean_absolute_error(testY,y_pred_Test))}')\n",
    "\n"
   ]
  },
  {
   "cell_type": "code",
   "execution_count": 37,
   "metadata": {},
   "outputs": [
    {
     "name": "stdout",
     "output_type": "stream",
     "text": [
      " Actual:  145.78595 actual  143.63815307617188\n"
     ]
    }
   ],
   "source": [
    "print(f' Actual:  {df1.Open[15]} actual  {y_pred_Train[0]}')"
   ]
  },
  {
   "cell_type": "markdown",
   "metadata": {},
   "source": [
    "Close to real value "
   ]
  },
  {
   "cell_type": "code",
   "execution_count": 38,
   "metadata": {},
   "outputs": [
    {
     "data": {
      "text/plain": [
       "1315"
      ]
     },
     "execution_count": 38,
     "metadata": {},
     "output_type": "execute_result"
    }
   ],
   "source": [
    "train_size"
   ]
  },
  {
   "cell_type": "code",
   "execution_count": 39,
   "metadata": {},
   "outputs": [
    {
     "data": {
      "text/plain": [
       "(1301, 3)"
      ]
     },
     "execution_count": 39,
     "metadata": {},
     "output_type": "execute_result"
    }
   ],
   "source": [
    "df_visual1=pd.DataFrame()\n",
    "df_visual1['date'] = df1.iloc[14:1315,0].values\n",
    "df_visual1['predicted_price(y^)'] = y_pred_Train\n",
    "df_visual1['Original(y)'] = df1.iloc[14:1315, 1].values\n",
    "df_visual1.shape"
   ]
  },
  {
   "cell_type": "code",
   "execution_count": 40,
   "metadata": {},
   "outputs": [
    {
     "data": {
      "text/plain": [
       "(550, 3)"
      ]
     },
     "execution_count": 40,
     "metadata": {},
     "output_type": "execute_result"
    }
   ],
   "source": [
    "df_visual2=pd.DataFrame()\n",
    "df_visual2['date'] = df1.iloc[1329:,0].values\n",
    "df_visual2['predicted_price(y^)'] = y_pred_Test\n",
    "df_visual2['Original(y)'] = df1.iloc[1329:, 1].values\n",
    "df_visual2.shape"
   ]
  },
  {
   "cell_type": "code",
   "execution_count": 41,
   "metadata": {},
   "outputs": [],
   "source": [
    "# df1[1315:1330]"
   ]
  },
  {
   "cell_type": "code",
   "execution_count": 42,
   "metadata": {},
   "outputs": [
    {
     "data": {
      "text/plain": [
       "(1851, 3)"
      ]
     },
     "execution_count": 42,
     "metadata": {},
     "output_type": "execute_result"
    }
   ],
   "source": [
    "d = [df_visual1,df_visual2]\n",
    "result = pd.concat(d)\n",
    "result.shape"
   ]
  },
  {
   "cell_type": "code",
   "execution_count": 43,
   "metadata": {},
   "outputs": [
    {
     "data": {
      "text/html": [
       "<div>\n",
       "<style scoped>\n",
       "    .dataframe tbody tr th:only-of-type {\n",
       "        vertical-align: middle;\n",
       "    }\n",
       "\n",
       "    .dataframe tbody tr th {\n",
       "        vertical-align: top;\n",
       "    }\n",
       "\n",
       "    .dataframe thead th {\n",
       "        text-align: right;\n",
       "    }\n",
       "</style>\n",
       "<table border=\"1\" class=\"dataframe\">\n",
       "  <thead>\n",
       "    <tr style=\"text-align: right;\">\n",
       "      <th></th>\n",
       "      <th>date</th>\n",
       "      <th>predicted_price(y^)</th>\n",
       "      <th>Original(y)</th>\n",
       "    </tr>\n",
       "  </thead>\n",
       "  <tbody>\n",
       "    <tr>\n",
       "      <th>545</th>\n",
       "      <td>2024-06-14</td>\n",
       "      <td>158.981384</td>\n",
       "      <td>154.220001</td>\n",
       "    </tr>\n",
       "    <tr>\n",
       "      <th>546</th>\n",
       "      <td>2024-06-17</td>\n",
       "      <td>157.465332</td>\n",
       "      <td>156.139999</td>\n",
       "    </tr>\n",
       "    <tr>\n",
       "      <th>547</th>\n",
       "      <td>2024-06-18</td>\n",
       "      <td>162.828445</td>\n",
       "      <td>163.399994</td>\n",
       "    </tr>\n",
       "    <tr>\n",
       "      <th>548</th>\n",
       "      <td>2024-06-20</td>\n",
       "      <td>164.715744</td>\n",
       "      <td>164.970001</td>\n",
       "    </tr>\n",
       "    <tr>\n",
       "      <th>549</th>\n",
       "      <td>2024-06-21</td>\n",
       "      <td>163.360184</td>\n",
       "      <td>164.500000</td>\n",
       "    </tr>\n",
       "  </tbody>\n",
       "</table>\n",
       "</div>"
      ],
      "text/plain": [
       "           date  predicted_price(y^)  Original(y)\n",
       "545  2024-06-14           158.981384   154.220001\n",
       "546  2024-06-17           157.465332   156.139999\n",
       "547  2024-06-18           162.828445   163.399994\n",
       "548  2024-06-20           164.715744   164.970001\n",
       "549  2024-06-21           163.360184   164.500000"
      ]
     },
     "execution_count": 43,
     "metadata": {},
     "output_type": "execute_result"
    }
   ],
   "source": [
    "result.tail()"
   ]
  },
  {
   "cell_type": "markdown",
   "metadata": {},
   "source": [
    "Differnece between orginal and predicted is in acceptable range"
   ]
  },
  {
   "cell_type": "code",
   "execution_count": 44,
   "metadata": {},
   "outputs": [
    {
     "data": {
      "image/png": "[encoded data removed]",
      "text/plain": [
       "<Figure size 1400x700 with 1 Axes>"
      ]
     },
     "metadata": {},
     "output_type": "display_data"
    }
   ],
   "source": [
    "plt.figure(figsize=(14, 7))\n",
    "plt.plot(df_visual1['date'], df_visual1['Original(y)'], label='Original Prices', color='blue')\n",
    "plt.plot(df_visual1['date'], df_visual1['predicted_price(y^)'], label='Trained Predictions', color='orange')\n",
    "\n",
    "plt.plot(df_visual2['date'], df_visual2['Original(y)'], label='Test Predictions', color='blue')\n",
    "plt.plot(df_visual2['date'], df_visual2['predicted_price(y^)'], label='Test Predictions', color='green')\n",
    "\n",
    "plt.xlabel('Date')\n",
    "plt.ylabel('Price')\n",
    "plt.title('Stock Prices: Original vs Predicted')\n",
    "plt.legend()\n",
    "plt.grid(True)\n",
    "plt.xticks(rotation=45)\n",
    "plt.show()"
   ]
  },
  {
   "cell_type": "markdown",
   "metadata": {},
   "source": [
    "### Future Price predictions"
   ]
  },
  {
   "cell_type": "code",
   "execution_count": 45,
   "metadata": {},
   "outputs": [],
   "source": [
    "from pandas.tseries.holiday import USFederalHolidayCalendar\n",
    "from pandas.tseries.offsets import CustomBusinessDay\n",
    "us_bd = CustomBusinessDay(calendar=USFederalHolidayCalendar())"
   ]
  },
  {
   "cell_type": "code",
   "execution_count": 46,
   "metadata": {},
   "outputs": [
    {
     "data": {
      "text/plain": [
       "array([[2.40401224, 2.39174619, 2.40487234, 2.40676668, 2.15560894],\n",
       "       [2.41556142, 2.39030923, 2.43679966, 2.40820943, 2.15699319],\n",
       "       [2.38957556, 2.37881043, 2.39181111, 2.38223419, 2.13206128],\n",
       "       ...,\n",
       "       [2.75415415, 2.76959788, 2.76454502, 2.80116105, 3.05087239],\n",
       "       [2.80144842, 2.80288801, 2.78543961, 2.80206437, 3.05183335],\n",
       "       [2.7872903 , 2.76150016, 2.73244625, 2.77917953, 3.02748845]])"
      ]
     },
     "execution_count": 46,
     "metadata": {},
     "output_type": "execute_result"
    }
   ],
   "source": [
    "scaler1 = scaler.fit(df_training)\n",
    "# scaled dataset\n",
    "df_for_training_scaled1 = scaler1.transform(df_training)\n",
    "df_for_training_scaled1"
   ]
  },
  {
   "cell_type": "code",
   "execution_count": 81,
   "metadata": {},
   "outputs": [
    {
     "name": "stdout",
     "output_type": "stream",
     "text": [
      "trainX1 shape == (1844, 16, 5).\n",
      "trainY1 shape == (1844, 1).\n"
     ]
    }
   ],
   "source": [
    "trainX1 = []\n",
    "trainY1 = []\n",
    "for i in range(n_past, len(df_for_training_scaled1) - n_future + 1):\n",
    "    trainX1.append(df_for_training_scaled1[i - n_past:i, 0:df_training.shape[1]])\n",
    "    trainY1.append(df_for_training_scaled1[i + n_future - 1:i + n_future, 0])\n",
    "    \n",
    "trainX1, trainY1 = np.array(trainX1), np.array(trainY1)\n",
    "\n",
    "print('trainX1 shape == {}.'.format(trainX1.shape))\n",
    "print('trainY1 shape == {}.'.format(trainY1.shape))"
   ]
  },
  {
   "cell_type": "code",
   "execution_count": 82,
   "metadata": {},
   "outputs": [
    {
     "data": {
      "text/plain": [
       "Timestamp('2024-06-21 00:00:00')"
      ]
     },
     "execution_count": 82,
     "metadata": {},
     "output_type": "execute_result"
    }
   ],
   "source": [
    "train_dates = pd.to_datetime(df1['Date'])\n",
    "train_dates.iloc[-1]"
   ]
  },
  {
   "cell_type": "code",
   "execution_count": 75,
   "metadata": {},
   "outputs": [
    {
     "data": {
      "text/plain": [
       "(1301, 1)"
      ]
     },
     "execution_count": 75,
     "metadata": {},
     "output_type": "execute_result"
    }
   ],
   "source": [
    "trainY.shape"
   ]
  },
  {
   "cell_type": "code",
   "execution_count": 96,
   "metadata": {},
   "outputs": [
    {
     "name": "stdout",
     "output_type": "stream",
     "text": [
      "\u001b[1m1/1\u001b[0m \u001b[32m━━━━━━━━━━━━━━━━━━━━\u001b[0m\u001b[37m\u001b[0m \u001b[1m0s\u001b[0m 20ms/step\n"
     ]
    },
    {
     "data": {
      "text/plain": [
       "array([158.7118 , 159.15599, 164.01271, 165.82845, 162.96527, 163.01814,\n",
       "       166.50586, 167.25972, 165.9876 , 164.9894 , 166.21751, 166.76787,\n",
       "       164.04892, 162.88377, 163.83188, 162.08266, 158.3862 , 157.6735 ,\n",
       "       161.78944, 164.19856], dtype=float32)"
      ]
     },
     "execution_count": 96,
     "metadata": {},
     "output_type": "execute_result"
    }
   ],
   "source": [
    "n_future = 20\n",
    "# Forecast period dates\n",
    "forecast_period_dates = pd.date_range(train_dates.iloc[-1], periods=n_future, freq='1d').tolist()\n",
    "forecast = model.predict(trainX1[-n_future:])\n",
    "forecast_copies = np.repeat(forecast, df_training.shape[1], axis=-1)\n",
    "y_pred_future = scaler.inverse_transform(forecast_copies)[:, 0]\n",
    "y_pred_future"
   ]
  },
  {
   "cell_type": "code",
   "execution_count": null,
   "metadata": {},
   "outputs": [],
   "source": []
  },
  {
   "cell_type": "code",
   "execution_count": 97,
   "metadata": {},
   "outputs": [],
   "source": [
    "forecast_dates = []\n",
    "for time_i in forecast_period_dates:\n",
    "    forecast_dates.append(time_i.date())\n",
    "    \n",
    "df_forecast = pd.DataFrame({'Date':np.array(forecast_dates), 'Open Forecasted':y_pred_future})\n",
    "df_forecast['Date']=pd.to_datetime(df_forecast['Date'])"
   ]
  },
  {
   "cell_type": "code",
   "execution_count": 98,
   "metadata": {},
   "outputs": [
    {
     "data": {
      "text/html": [
       "<div>\n",
       "<style scoped>\n",
       "    .dataframe tbody tr th:only-of-type {\n",
       "        vertical-align: middle;\n",
       "    }\n",
       "\n",
       "    .dataframe tbody tr th {\n",
       "        vertical-align: top;\n",
       "    }\n",
       "\n",
       "    .dataframe thead th {\n",
       "        text-align: right;\n",
       "    }\n",
       "</style>\n",
       "<table border=\"1\" class=\"dataframe\">\n",
       "  <thead>\n",
       "    <tr style=\"text-align: right;\">\n",
       "      <th></th>\n",
       "      <th>Date</th>\n",
       "      <th>Open Forecasted</th>\n",
       "    </tr>\n",
       "  </thead>\n",
       "  <tbody>\n",
       "    <tr>\n",
       "      <th>0</th>\n",
       "      <td>2024-06-21</td>\n",
       "      <td>158.711807</td>\n",
       "    </tr>\n",
       "    <tr>\n",
       "      <th>1</th>\n",
       "      <td>2024-06-22</td>\n",
       "      <td>159.155991</td>\n",
       "    </tr>\n",
       "    <tr>\n",
       "      <th>2</th>\n",
       "      <td>2024-06-23</td>\n",
       "      <td>164.012711</td>\n",
       "    </tr>\n",
       "    <tr>\n",
       "      <th>3</th>\n",
       "      <td>2024-06-24</td>\n",
       "      <td>165.828445</td>\n",
       "    </tr>\n",
       "    <tr>\n",
       "      <th>4</th>\n",
       "      <td>2024-06-25</td>\n",
       "      <td>162.965271</td>\n",
       "    </tr>\n",
       "    <tr>\n",
       "      <th>5</th>\n",
       "      <td>2024-06-26</td>\n",
       "      <td>163.018143</td>\n",
       "    </tr>\n",
       "    <tr>\n",
       "      <th>6</th>\n",
       "      <td>2024-06-27</td>\n",
       "      <td>166.505859</td>\n",
       "    </tr>\n",
       "    <tr>\n",
       "      <th>7</th>\n",
       "      <td>2024-06-28</td>\n",
       "      <td>167.259720</td>\n",
       "    </tr>\n",
       "    <tr>\n",
       "      <th>8</th>\n",
       "      <td>2024-06-29</td>\n",
       "      <td>165.987595</td>\n",
       "    </tr>\n",
       "    <tr>\n",
       "      <th>9</th>\n",
       "      <td>2024-06-30</td>\n",
       "      <td>164.989395</td>\n",
       "    </tr>\n",
       "    <tr>\n",
       "      <th>10</th>\n",
       "      <td>2024-07-01</td>\n",
       "      <td>166.217514</td>\n",
       "    </tr>\n",
       "    <tr>\n",
       "      <th>11</th>\n",
       "      <td>2024-07-02</td>\n",
       "      <td>166.767868</td>\n",
       "    </tr>\n",
       "    <tr>\n",
       "      <th>12</th>\n",
       "      <td>2024-07-03</td>\n",
       "      <td>164.048920</td>\n",
       "    </tr>\n",
       "    <tr>\n",
       "      <th>13</th>\n",
       "      <td>2024-07-04</td>\n",
       "      <td>162.883774</td>\n",
       "    </tr>\n",
       "    <tr>\n",
       "      <th>14</th>\n",
       "      <td>2024-07-05</td>\n",
       "      <td>163.831879</td>\n",
       "    </tr>\n",
       "    <tr>\n",
       "      <th>15</th>\n",
       "      <td>2024-07-06</td>\n",
       "      <td>162.082657</td>\n",
       "    </tr>\n",
       "    <tr>\n",
       "      <th>16</th>\n",
       "      <td>2024-07-07</td>\n",
       "      <td>158.386200</td>\n",
       "    </tr>\n",
       "    <tr>\n",
       "      <th>17</th>\n",
       "      <td>2024-07-08</td>\n",
       "      <td>157.673492</td>\n",
       "    </tr>\n",
       "    <tr>\n",
       "      <th>18</th>\n",
       "      <td>2024-07-09</td>\n",
       "      <td>161.789444</td>\n",
       "    </tr>\n",
       "    <tr>\n",
       "      <th>19</th>\n",
       "      <td>2024-07-10</td>\n",
       "      <td>164.198563</td>\n",
       "    </tr>\n",
       "  </tbody>\n",
       "</table>\n",
       "</div>"
      ],
      "text/plain": [
       "         Date  Open Forecasted\n",
       "0  2024-06-21       158.711807\n",
       "1  2024-06-22       159.155991\n",
       "2  2024-06-23       164.012711\n",
       "3  2024-06-24       165.828445\n",
       "4  2024-06-25       162.965271\n",
       "5  2024-06-26       163.018143\n",
       "6  2024-06-27       166.505859\n",
       "7  2024-06-28       167.259720\n",
       "8  2024-06-29       165.987595\n",
       "9  2024-06-30       164.989395\n",
       "10 2024-07-01       166.217514\n",
       "11 2024-07-02       166.767868\n",
       "12 2024-07-03       164.048920\n",
       "13 2024-07-04       162.883774\n",
       "14 2024-07-05       163.831879\n",
       "15 2024-07-06       162.082657\n",
       "16 2024-07-07       158.386200\n",
       "17 2024-07-08       157.673492\n",
       "18 2024-07-09       161.789444\n",
       "19 2024-07-10       164.198563"
      ]
     },
     "execution_count": 98,
     "metadata": {},
     "output_type": "execute_result"
    }
   ],
   "source": [
    "df_forecast"
   ]
  },
  {
   "cell_type": "code",
   "execution_count": 99,
   "metadata": {},
   "outputs": [
    {
     "name": "stderr",
     "output_type": "stream",
     "text": [
      "C:\\Users\\user\\AppData\\Local\\Temp\\ipykernel_15928\\2870598733.py:2: SettingWithCopyWarning: \n",
      "A value is trying to be set on a copy of a slice from a DataFrame.\n",
      "Try using .loc[row_indexer,col_indexer] = value instead\n",
      "\n",
      "See the caveats in the documentation: https://pandas.pydata.org/pandas-docs/stable/user_guide/indexing.html#returning-a-view-versus-a-copy\n",
      "  original['Date']=pd.to_datetime(original['Date'])\n"
     ]
    }
   ],
   "source": [
    "original = df1[['Date', 'Open']]\n",
    "original['Date']=pd.to_datetime(original['Date'])\n",
    "original = original.loc[original['Date'] >= '2024-5-1']"
   ]
  },
  {
   "cell_type": "code",
   "execution_count": null,
   "metadata": {},
   "outputs": [],
   "source": [
    "\n",
    "plt.plot(df_visual2['date'], df_visual2['Original(y)'], label='Test Predictions', color='blue')\n",
    "plt.plot(df_visual2['date'], df_visual2['predicted_price(y^)'], label='Test Predictions', color='green')\n"
   ]
  },
  {
   "cell_type": "code",
   "execution_count": 100,
   "metadata": {},
   "outputs": [
    {
     "data": {
      "image/png": "[encoded data removed]",
      "text/plain": [
       "<Figure size 1400x700 with 1 Axes>"
      ]
     },
     "metadata": {},
     "output_type": "display_data"
    }
   ],
   "source": [
    "plt.figure(figsize=(14, 7))\n",
    "sns.lineplot(data=original, x='Date', y='Open', label='Original')\n",
    "sns.lineplot(data=df_forecast, x='Date', y='Open Forecasted', label='Forecasted')\n",
    "sns.lineplot(data=df_forecast, x='Date', y='Open Forecasted', label='Forecasted')\n",
    "sns.lineplot(data=df_forecast, x='Date', y='Open Forecasted', label='Forecasted')\n",
    "\n",
    "plt.xlabel('Date')\n",
    "plt.ylabel('Open Price')\n",
    "plt.title('Original vs Forecasted Prices')\n",
    "plt.legend()\n",
    "plt.xticks(rotation=45)\n",
    "plt.grid(True)\n",
    "plt.tight_layout()\n",
    "plt.show()"
   ]
  },
  {
   "cell_type": "markdown",
   "metadata": {},
   "source": []
  },
  {
   "cell_type": "markdown",
   "metadata": {},
   "source": []
  },
  {
   "cell_type": "markdown",
   "metadata": {},
   "source": [
    "Suggestions "
   ]
  },
  {
   "cell_type": "markdown",
   "metadata": {},
   "source": [
    "Certainly! Here are several strategies to potentially improve your model and reduce the gap between predicted and original values:\n",
    "\n",
    "Feature Engineering:\n",
    "\n",
    "Add technical indicators (e.g., Moving Averages, RSI, MACD)\n",
    "Include market sentiment data (e.g., from news headlines or social media)\n",
    "Incorporate macroeconomic indicators (e.g., interest rates, GDP growth)\n",
    "\n",
    "\n",
    "Model Architecture:\n",
    "\n",
    "Experiment with different LSTM architectures (e.g., stacked LSTMs, bidirectional LSTMs)\n",
    "Try attention mechanisms to help the model focus on relevant parts of the input sequence\n",
    "Implement a hybrid model combining LSTM with other algorithms (e.g., LSTM-CNN)\n",
    "\n",
    "\n",
    "Hyperparameter Tuning:\n",
    "\n",
    "Use techniques like Grid Search, Random Search, or Bayesian Optimization to find optimal hyperparameters\n",
    "Adjust learning rate, batch size, number of epochs, and network architecture\n",
    "\n",
    "\n",
    "Ensemble Methods:\n",
    "\n",
    "Combine predictions from multiple models (e.g., LSTM, Prophet, ARIMA)\n",
    "Use techniques like bagging or boosting to create ensemble models\n",
    "\n",
    "\n",
    "Data Preprocessing:\n",
    "\n",
    "Experiment with different scaling techniques (e.g., Min-Max scaling, Robust scaling)\n",
    "Try different sequence lengths for input data\n",
    "Use techniques like SMOTE if dealing with imbalanced data\n",
    "\n",
    "\n",
    "Regularization:\n",
    "\n",
    "Implement dropout layers or L1/L2 regularization to prevent overfitting\n",
    "Use early stopping with a patience parameter\n",
    "\n",
    "\n",
    "Time-based Features:\n",
    "\n",
    "Add cyclical time features (e.g., day of week, month of year)\n",
    "Include holiday indicators\n",
    "\n",
    "\n",
    "External Data:\n",
    "\n",
    "Incorporate data from related stocks or market indices\n",
    "Use company-specific news or earnings reports\n",
    "\n",
    "\n",
    "Multi-task Learning:\n",
    "\n",
    "Train the model to predict multiple related values (e.g., open, close, high, low prices)\n",
    "\n",
    "\n",
    "Differential Learning Rates:\n",
    "\n",
    "Use different learning rates for different layers of the network\n",
    "\n",
    "\n",
    "Residual Connections:\n",
    "\n",
    "Implement skip connections or residual blocks in your network\n",
    "\n",
    "\n",
    "Data Augmentation:\n",
    "\n",
    "Create synthetic data points by adding small amounts of noise to existing data\n",
    "\n",
    "\n",
    "Transfer Learning:\n",
    "\n",
    "Pre-train your model on a larger dataset and fine-tune on your specific stock\n",
    "\n",
    "\n",
    "Attention to Outliers:\n",
    "\n",
    "Identify and handle outliers in your training data\n",
    "\n",
    "\n",
    "Rolling Forecast Origin:\n",
    "\n",
    "Implement a rolling forecast origin for model training and evaluation\n",
    "\n",
    "\n",
    "Prediction Intervals:\n",
    "\n",
    "Implement techniques to provide prediction intervals, not just point estimates"
   ]
  },
  {
   "cell_type": "markdown",
   "metadata": {},
   "source": []
  }
 ],
 "metadata": {
  "kernelspec": {
   "display_name": "Python 3",
   "language": "python",
   "name": "python3"
  },
  "language_info": {
   "codemirror_mode": {
    "name": "ipython",
    "version": 3
   },
   "file_extension": ".py",
   "mimetype": "text/x-python",
   "name": "python",
   "nbconvert_exporter": "python",
   "pygments_lexer": "ipython3",
   "version": "3.12.3"
  }
 },
 "nbformat": 4,
 "nbformat_minor": 2
}
